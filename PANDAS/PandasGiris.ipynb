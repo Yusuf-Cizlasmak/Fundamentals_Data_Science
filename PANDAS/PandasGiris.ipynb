{
 "cells": [
  {
   "cell_type": "code",
   "execution_count": 4,
   "metadata": {},
   "outputs": [],
   "source": [
    "import numpy as np\n",
    "import pandas as pd\n",
    "\n"
   ]
  },
  {
   "cell_type": "code",
   "execution_count": 5,
   "metadata": {},
   "outputs": [
    {
     "name": "stdout",
     "output_type": "stream",
     "text": [
      "Atil      50\n",
      "Zeynep    40\n",
      "Memo      30\n",
      "dtype: int64\n"
     ]
    }
   ],
   "source": [
    "#Series/Seriler\n",
    "\n",
    "#bir etiket gibi düşünebilrisin. veri biliminin  excel  gibi çalışır felan derler\n",
    "\n",
    "benimSozlugum={\"Atil\":50,\"Zeynep\":40,\"Memo\":30} #bir kütüphane oluşturdum.\n",
    "#şimdi seriyi nasıl oluşturulur?\n",
    "a=pd.Series(benimSozlugum)\n",
    "print(a) \n",
    "\n",
    "#başka bir yöntem yani şöyle bir şeyde olabilirdi\n",
    "benimYaslarim=[50,40,30]\n",
    "benimIsımlerim=[\"Atil\",\"Zeynep\",\"Mehmet\"]\n"
   ]
  },
  {
   "cell_type": "code",
   "execution_count": 6,
   "metadata": {},
   "outputs": [
    {
     "name": "stdout",
     "output_type": "stream",
     "text": [
      "Atil      50\n",
      "Zeynep    40\n",
      "Mehmet    30\n",
      "dtype: int64\n",
      "Atil      50\n",
      "Zeynep    40\n",
      "Mehmet    30\n",
      "dtype: int64\n"
     ]
    }
   ],
   "source": [
    "b=pd.Series(benimYaslarim,benimIsımlerim)\n",
    "print(b)\n",
    "#output \n",
    "#Atil      50\n",
    "#Zeynep    40\n",
    "#Mehmet    30\n",
    "#dtype: int64\n",
    "\n",
    "c=pd.Series(data=benimYaslarim,index=benimIsımlerim)\n",
    "print(c)\n",
    "#aynı output verecektir.\n",
    "\n",
    "NumpyDizisi=np.array([50,40,30])  "
   ]
  },
  {
   "cell_type": "code",
   "execution_count": 7,
   "metadata": {},
   "outputs": [
    {
     "name": "stdout",
     "output_type": "stream",
     "text": [
      "1     Atil\n",
      "2    Atlas\n",
      "3    Yusuf\n",
      "dtype: object\n",
      "2\n",
      "a    20.0\n",
      "b     NaN\n",
      "c     NaN\n",
      "g     NaN\n",
      "w     NaN\n",
      "dtype: float64\n"
     ]
    }
   ],
   "source": [
    "#bir yarışma olsun diyelim.\n",
    "\n",
    "f=pd.Series([\"Atil\",\"Atlas\",\"Yusuf\"],[1,2,3])\n",
    "print(f) \n",
    "\n",
    "#şimdi kulvar kulvar puan aldıranları yazalım\n",
    "\n",
    "e=pd.Series([10,2,9],[\"Muhammet\",\"Yusuf\",\"Cızlasmak\"])\n",
    "\n",
    "#ben buradan index çekebilirim şuan ama e[0] yazmıcam e[\"Yusuf\"] yazmam gerekiyor.\n",
    "print(e[\"Yusuf\"])\n",
    "\n",
    "#yaptığım iki tane pd.Series'ı da toplayabiliyorum açıkcası e+f şeklinde ama ikisinde de aynı tablo olmak zorunda.\n",
    "\n",
    "#peki ya farklı bir tabloda?? \n",
    "farkliSeries1=pd.Series([10,2,9],[\"a\",\"b\",\"c\"])\n",
    "farkliSeries2=pd.Series([10,2,9],[\"a\",\"g\",\"w\"])\n",
    "print(farkliSeries1+farkliSeries2)\n",
    "\n",
    "#output\n",
    "#a    20.0\n",
    "#b     NaN\n",
    "#c     NaN\n",
    "#g     NaN\n",
    "#w     NaN\n",
    "#dtype: float64"
   ]
  },
  {
   "cell_type": "code",
   "execution_count": null,
   "metadata": {},
   "outputs": [],
   "source": []
  },
  {
   "cell_type": "code",
   "execution_count": null,
   "metadata": {},
   "outputs": [],
   "source": []
  }
 ],
 "metadata": {
  "interpreter": {
   "hash": "e26da9777431fcd98778416b583e2cb3f0c4f5515b7897587b203af2bddddd45"
  },
  "kernelspec": {
   "display_name": "Python 3.8.8",
   "language": "python",
   "name": "python3"
  },
  "language_info": {
   "codemirror_mode": {
    "name": "ipython",
    "version": 3
   },
   "file_extension": ".py",
   "mimetype": "text/x-python",
   "name": "python",
   "nbconvert_exporter": "python",
   "pygments_lexer": "ipython3",
   "version": "3.8.8"
  },
  "orig_nbformat": 4
 },
 "nbformat": 4,
 "nbformat_minor": 2
}
