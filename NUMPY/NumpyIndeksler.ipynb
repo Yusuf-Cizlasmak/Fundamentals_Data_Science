{
 "cells": [
  {
   "cell_type": "code",
   "execution_count": 1,
   "metadata": {},
   "outputs": [
    {
     "name": "stdout",
     "output_type": "stream",
     "text": [
      "[ 0  1  2  3  4  5  6  7  8  9 10 11 12 13 14]\n",
      "[  0   1   2 500 500 500   6   7   8   9  10  11  12  13  14  15  16  17\n",
      "  18  19  20  21  22  23]\n",
      "[ 0  1  2  3  4  5  6  7  8  9 10 11 12 13 14 15 16 17 18 19 20 21 22 23]\n"
     ]
    }
   ],
   "source": [
    "import numpy as np\n",
    "\n",
    "\n",
    "#bazı şeylerin de değişmemesi için copy olması için.. \n",
    "ornekDizi=np.arange(0,24)\n",
    "ornekDiziKopyası=ornekDizi.copy()\n",
    "\n",
    "ornekDiziKopyasıSlicing=ornekDiziKopyası[3:6]\n",
    "ornekDiziKopyasıSlicing[:]=500\n",
    "\n",
    "a=ornekDiziKopyası                                        #output 0   1   2 500 500 500   6   7   8   9  10  11  12  13  14  15  16  17 18  19  20  21  22  23\n",
    "  \n",
    "b=ornekDizi                                        #output 0   1   2 3 4 5   6   7   8   9  10  11  12  13  14  15  16  17 18  19  20  21  22  23\n"
   ]
  },
  {
   "cell_type": "code",
   "execution_count": 2,
   "metadata": {},
   "outputs": [
    {
     "name": "stdout",
     "output_type": "stream",
     "text": [
      "[ 0  1  2  3  4  5  6  7  8  9 10 11 12 13 14]\n"
     ]
    }
   ],
   "source": [
    "benimDizim=np.arange(0,15)\n",
    "print(benimDizim)\n",
    "\n",
    "#dizilerle hemen hemen aynı mantık.\n",
    "\n",
    "#ama eğer ben \n",
    "benimDizim[3:8] =-5\n",
    "#yazarsak 3 ve 7 indexlerin arasından hepsini -5 yapıyor."
   ]
  },
  {
   "cell_type": "code",
   "execution_count": 3,
   "metadata": {},
   "outputs": [],
   "source": [
    "#bazı şeylerin de değişmemesi için copy olması için.. \n",
    "ornekDizi=np.arange(0,24)\n",
    "ornekDiziKopyası=ornekDizi.copy()\n",
    "\n",
    "ornekDiziKopyasıSlicing=ornekDiziKopyası[3:6]\n",
    "ornekDiziKopyasıSlicing[:]=500"
   ]
  },
  {
   "cell_type": "code",
   "execution_count": 4,
   "metadata": {},
   "outputs": [],
   "source": [
    "a=ornekDiziKopyası                                        #output 0   1   2 500 500 500   6   7   8   9  10  11  12  13  14  15  16  17 18  19  20  21  22  23\n",
    "    \n",
    "b=ornekDizi                                        #output 0   1   2 3 4 5   6   7   8   9  10  11  12  13  14  15  16  17 18  19  20  21  22  23"
   ]
  },
  {
   "cell_type": "code",
   "execution_count": 5,
   "metadata": {},
   "outputs": [
    {
     "data": {
      "text/plain": [
       "array([  0,   1,   2, 500, 500, 500,   6,   7,   8,   9,  10,  11,  12,\n",
       "        13,  14,  15,  16,  17,  18,  19,  20,  21,  22,  23])"
      ]
     },
     "execution_count": 5,
     "metadata": {},
     "output_type": "execute_result"
    }
   ],
   "source": [
    "a"
   ]
  },
  {
   "cell_type": "code",
   "execution_count": 6,
   "metadata": {},
   "outputs": [
    {
     "data": {
      "text/plain": [
       "array([ 0,  1,  2,  3,  4,  5,  6,  7,  8,  9, 10, 11, 12, 13, 14, 15, 16,\n",
       "       17, 18, 19, 20, 21, 22, 23])"
      ]
     },
     "execution_count": 6,
     "metadata": {},
     "output_type": "execute_result"
    }
   ],
   "source": [
    "b"
   ]
  },
  {
   "cell_type": "code",
   "execution_count": null,
   "metadata": {},
   "outputs": [],
   "source": []
  }
 ],
 "metadata": {
  "interpreter": {
   "hash": "e26da9777431fcd98778416b583e2cb3f0c4f5515b7897587b203af2bddddd45"
  },
  "kernelspec": {
   "display_name": "Python 3.8.8",
   "language": "python",
   "name": "python3"
  },
  "language_info": {
   "codemirror_mode": {
    "name": "ipython",
    "version": 3
   },
   "file_extension": ".py",
   "mimetype": "text/x-python",
   "name": "python",
   "nbconvert_exporter": "python",
   "pygments_lexer": "ipython3",
   "version": "3.8.8"
  },
  "orig_nbformat": 4
 },
 "nbformat": 4,
 "nbformat_minor": 2
}
