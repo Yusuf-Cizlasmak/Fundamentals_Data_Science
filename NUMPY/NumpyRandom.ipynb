{
 "cells": [
  {
   "cell_type": "code",
   "execution_count": 7,
   "metadata": {},
   "outputs": [],
   "source": [
    "import numpy as np\n"
   ]
  },
  {
   "cell_type": "code",
   "execution_count": 2,
   "metadata": {},
   "outputs": [
    {
     "name": "stdout",
     "output_type": "stream",
     "text": [
      "[ 0.72742137 -1.04156428  1.4518943  -0.15832988]\n"
     ]
    }
   ],
   "source": [
    "#Random\n",
    "a=np.random.randn(4)\n",
    "print(a)\n"
   ]
  },
  {
   "cell_type": "code",
   "execution_count": 3,
   "metadata": {},
   "outputs": [
    {
     "name": "stdout",
     "output_type": "stream",
     "text": [
      "[[ 0.69672056 -0.37126572  0.80665794  1.40582751]\n",
      " [ 0.25313833 -0.54414669  1.06211568 -1.14560875]\n",
      " [-0.77791596 -0.1297958   0.71052721 -0.28805989]\n",
      " [ 0.39973225  0.39064983 -0.14174102  0.58831599]]\n"
     ]
    }
   ],
   "source": [
    "#bunu matrix olarakta oluşturabiliyoruz.\n",
    "b=np.random.randn(4,4)\n",
    "print(b)"
   ]
  },
  {
   "cell_type": "code",
   "execution_count": 4,
   "metadata": {},
   "outputs": [
    {
     "name": "stdout",
     "output_type": "stream",
     "text": [
      "3\n"
     ]
    }
   ],
   "source": [
    "#peki rastgele bir sayı istersek belli bir aralıkta.\n",
    "c=np.random.randint(1,20) # birinci parametre başlangıc, diğerini de son.\n",
    "print(c)"
   ]
  },
  {
   "cell_type": "code",
   "execution_count": 5,
   "metadata": {},
   "outputs": [
    {
     "name": "stdout",
     "output_type": "stream",
     "text": [
      "[ 81 197 108  50 148 116 101]\n"
     ]
    }
   ],
   "source": [
    "#peki belli bir aralıkta birkaç sayı istersek..\n",
    "d=np.random.randint(1,205,7)\n",
    "print(d)"
   ]
  },
  {
   "cell_type": "code",
   "execution_count": 6,
   "metadata": {},
   "outputs": [
    {
     "name": "stdout",
     "output_type": "stream",
     "text": [
      "[ 0  1  2  3  4  5  6  7  8  9 10 11 12 13 14 15 16 17 18 19 20 21 22 23\n",
      " 24 25 26 27 28 29]\n"
     ]
    }
   ],
   "source": [
    "\n",
    "e=np.arange(30)\n",
    "print(e)\n"
   ]
  },
  {
   "cell_type": "code",
   "execution_count": null,
   "metadata": {},
   "outputs": [],
   "source": []
  }
 ],
 "metadata": {
  "interpreter": {
   "hash": "e26da9777431fcd98778416b583e2cb3f0c4f5515b7897587b203af2bddddd45"
  },
  "kernelspec": {
   "display_name": "Python 3.8.8",
   "language": "python",
   "name": "python3"
  },
  "language_info": {
   "codemirror_mode": {
    "name": "ipython",
    "version": 3
   },
   "file_extension": ".py",
   "mimetype": "text/x-python",
   "name": "python",
   "nbconvert_exporter": "python",
   "pygments_lexer": "ipython3",
   "version": "3.8.8"
  },
  "orig_nbformat": 4
 },
 "nbformat": 4,
 "nbformat_minor": 2
}
