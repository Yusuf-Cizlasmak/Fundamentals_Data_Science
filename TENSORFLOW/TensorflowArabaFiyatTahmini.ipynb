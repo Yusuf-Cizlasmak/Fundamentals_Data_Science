{
 "cells": [
  {
   "cell_type": "code",
   "execution_count": 3,
   "metadata": {},
   "outputs": [],
   "source": [
    "import pandas as pd\n",
    "import numpy as np\n",
    "import seaborn as sbn\n",
    "import matplotlib.pyplot as plt"
   ]
  },
  {
   "cell_type": "code",
   "execution_count": 4,
   "metadata": {},
   "outputs": [],
   "source": [
    "dataFrame= pd.read_excel(\"merc.xlsx\")\n",
    "\n"
   ]
  },
  {
   "cell_type": "code",
   "execution_count": 5,
   "metadata": {},
   "outputs": [
    {
     "data": {
      "text/html": [
       "<div>\n",
       "<style scoped>\n",
       "    .dataframe tbody tr th:only-of-type {\n",
       "        vertical-align: middle;\n",
       "    }\n",
       "\n",
       "    .dataframe tbody tr th {\n",
       "        vertical-align: top;\n",
       "    }\n",
       "\n",
       "    .dataframe thead th {\n",
       "        text-align: right;\n",
       "    }\n",
       "</style>\n",
       "<table border=\"1\" class=\"dataframe\">\n",
       "  <thead>\n",
       "    <tr style=\"text-align: right;\">\n",
       "      <th></th>\n",
       "      <th>year</th>\n",
       "      <th>price</th>\n",
       "      <th>transmission</th>\n",
       "      <th>mileage</th>\n",
       "      <th>tax</th>\n",
       "      <th>mpg</th>\n",
       "      <th>engineSize</th>\n",
       "    </tr>\n",
       "  </thead>\n",
       "  <tbody>\n",
       "    <tr>\n",
       "      <th>0</th>\n",
       "      <td>2005</td>\n",
       "      <td>5200</td>\n",
       "      <td>Automatic</td>\n",
       "      <td>63000</td>\n",
       "      <td>325</td>\n",
       "      <td>32.1</td>\n",
       "      <td>1.8</td>\n",
       "    </tr>\n",
       "    <tr>\n",
       "      <th>1</th>\n",
       "      <td>2017</td>\n",
       "      <td>34948</td>\n",
       "      <td>Automatic</td>\n",
       "      <td>27000</td>\n",
       "      <td>20</td>\n",
       "      <td>61.4</td>\n",
       "      <td>2.1</td>\n",
       "    </tr>\n",
       "    <tr>\n",
       "      <th>2</th>\n",
       "      <td>2016</td>\n",
       "      <td>49948</td>\n",
       "      <td>Automatic</td>\n",
       "      <td>6200</td>\n",
       "      <td>555</td>\n",
       "      <td>28.0</td>\n",
       "      <td>5.5</td>\n",
       "    </tr>\n",
       "    <tr>\n",
       "      <th>3</th>\n",
       "      <td>2016</td>\n",
       "      <td>61948</td>\n",
       "      <td>Automatic</td>\n",
       "      <td>16000</td>\n",
       "      <td>325</td>\n",
       "      <td>30.4</td>\n",
       "      <td>4.0</td>\n",
       "    </tr>\n",
       "    <tr>\n",
       "      <th>4</th>\n",
       "      <td>2016</td>\n",
       "      <td>73948</td>\n",
       "      <td>Automatic</td>\n",
       "      <td>4000</td>\n",
       "      <td>325</td>\n",
       "      <td>30.1</td>\n",
       "      <td>4.0</td>\n",
       "    </tr>\n",
       "  </tbody>\n",
       "</table>\n",
       "</div>"
      ],
      "text/plain": [
       "   year  price transmission  mileage  tax   mpg  engineSize\n",
       "0  2005   5200    Automatic    63000  325  32.1         1.8\n",
       "1  2017  34948    Automatic    27000   20  61.4         2.1\n",
       "2  2016  49948    Automatic     6200  555  28.0         5.5\n",
       "3  2016  61948    Automatic    16000  325  30.4         4.0\n",
       "4  2016  73948    Automatic     4000  325  30.1         4.0"
      ]
     },
     "execution_count": 5,
     "metadata": {},
     "output_type": "execute_result"
    }
   ],
   "source": [
    "dataFrame.head()"
   ]
  },
  {
   "cell_type": "code",
   "execution_count": 6,
   "metadata": {},
   "outputs": [
    {
     "data": {
      "text/html": [
       "<div>\n",
       "<style scoped>\n",
       "    .dataframe tbody tr th:only-of-type {\n",
       "        vertical-align: middle;\n",
       "    }\n",
       "\n",
       "    .dataframe tbody tr th {\n",
       "        vertical-align: top;\n",
       "    }\n",
       "\n",
       "    .dataframe thead th {\n",
       "        text-align: right;\n",
       "    }\n",
       "</style>\n",
       "<table border=\"1\" class=\"dataframe\">\n",
       "  <thead>\n",
       "    <tr style=\"text-align: right;\">\n",
       "      <th></th>\n",
       "      <th>year</th>\n",
       "      <th>price</th>\n",
       "      <th>mileage</th>\n",
       "      <th>tax</th>\n",
       "      <th>mpg</th>\n",
       "      <th>engineSize</th>\n",
       "    </tr>\n",
       "  </thead>\n",
       "  <tbody>\n",
       "    <tr>\n",
       "      <th>count</th>\n",
       "      <td>13119.000000</td>\n",
       "      <td>13119.000000</td>\n",
       "      <td>13119.000000</td>\n",
       "      <td>13119.000000</td>\n",
       "      <td>13119.000000</td>\n",
       "      <td>13119.000000</td>\n",
       "    </tr>\n",
       "    <tr>\n",
       "      <th>mean</th>\n",
       "      <td>2017.296288</td>\n",
       "      <td>24698.596920</td>\n",
       "      <td>21949.559037</td>\n",
       "      <td>129.972178</td>\n",
       "      <td>55.155843</td>\n",
       "      <td>2.071530</td>\n",
       "    </tr>\n",
       "    <tr>\n",
       "      <th>std</th>\n",
       "      <td>2.224709</td>\n",
       "      <td>11842.675542</td>\n",
       "      <td>21176.512267</td>\n",
       "      <td>65.260286</td>\n",
       "      <td>15.220082</td>\n",
       "      <td>0.572426</td>\n",
       "    </tr>\n",
       "    <tr>\n",
       "      <th>min</th>\n",
       "      <td>1970.000000</td>\n",
       "      <td>650.000000</td>\n",
       "      <td>1.000000</td>\n",
       "      <td>0.000000</td>\n",
       "      <td>1.100000</td>\n",
       "      <td>0.000000</td>\n",
       "    </tr>\n",
       "    <tr>\n",
       "      <th>25%</th>\n",
       "      <td>2016.000000</td>\n",
       "      <td>17450.000000</td>\n",
       "      <td>6097.500000</td>\n",
       "      <td>125.000000</td>\n",
       "      <td>45.600000</td>\n",
       "      <td>1.800000</td>\n",
       "    </tr>\n",
       "    <tr>\n",
       "      <th>50%</th>\n",
       "      <td>2018.000000</td>\n",
       "      <td>22480.000000</td>\n",
       "      <td>15189.000000</td>\n",
       "      <td>145.000000</td>\n",
       "      <td>56.500000</td>\n",
       "      <td>2.000000</td>\n",
       "    </tr>\n",
       "    <tr>\n",
       "      <th>75%</th>\n",
       "      <td>2019.000000</td>\n",
       "      <td>28980.000000</td>\n",
       "      <td>31779.500000</td>\n",
       "      <td>145.000000</td>\n",
       "      <td>64.200000</td>\n",
       "      <td>2.100000</td>\n",
       "    </tr>\n",
       "    <tr>\n",
       "      <th>max</th>\n",
       "      <td>2020.000000</td>\n",
       "      <td>159999.000000</td>\n",
       "      <td>259000.000000</td>\n",
       "      <td>580.000000</td>\n",
       "      <td>217.300000</td>\n",
       "      <td>6.200000</td>\n",
       "    </tr>\n",
       "  </tbody>\n",
       "</table>\n",
       "</div>"
      ],
      "text/plain": [
       "               year          price        mileage           tax           mpg  \\\n",
       "count  13119.000000   13119.000000   13119.000000  13119.000000  13119.000000   \n",
       "mean    2017.296288   24698.596920   21949.559037    129.972178     55.155843   \n",
       "std        2.224709   11842.675542   21176.512267     65.260286     15.220082   \n",
       "min     1970.000000     650.000000       1.000000      0.000000      1.100000   \n",
       "25%     2016.000000   17450.000000    6097.500000    125.000000     45.600000   \n",
       "50%     2018.000000   22480.000000   15189.000000    145.000000     56.500000   \n",
       "75%     2019.000000   28980.000000   31779.500000    145.000000     64.200000   \n",
       "max     2020.000000  159999.000000  259000.000000    580.000000    217.300000   \n",
       "\n",
       "         engineSize  \n",
       "count  13119.000000  \n",
       "mean       2.071530  \n",
       "std        0.572426  \n",
       "min        0.000000  \n",
       "25%        1.800000  \n",
       "50%        2.000000  \n",
       "75%        2.100000  \n",
       "max        6.200000  "
      ]
     },
     "execution_count": 6,
     "metadata": {},
     "output_type": "execute_result"
    }
   ],
   "source": [
    "#ben verimde ne var ne yok görmek isterim en başta.\n",
    "\n",
    "dataFrame.describe()"
   ]
  },
  {
   "cell_type": "code",
   "execution_count": 7,
   "metadata": {},
   "outputs": [
    {
     "data": {
      "text/plain": [
       "year            0\n",
       "price           0\n",
       "transmission    0\n",
       "mileage         0\n",
       "tax             0\n",
       "mpg             0\n",
       "engineSize      0\n",
       "dtype: int64"
      ]
     },
     "execution_count": 7,
     "metadata": {},
     "output_type": "execute_result"
    }
   ],
   "source": [
    "#hiç null var mı ? otomatik rakamla doldurma veya raw'ları silme işlemi var önümüzde.\n",
    "\n",
    "dataFrame.isnull().sum() #summary özet demek ! "
   ]
  },
  {
   "cell_type": "code",
   "execution_count": 8,
   "metadata": {},
   "outputs": [
    {
     "data": {
      "text/plain": [
       "<seaborn.axisgrid.FacetGrid at 0x1556edcefa0>"
      ]
     },
     "execution_count": 8,
     "metadata": {},
     "output_type": "execute_result"
    },
    {
     "data": {
      "text/plain": [
       "<Figure size 504x360 with 0 Axes>"
      ]
     },
     "metadata": {},
     "output_type": "display_data"
    },
    {
     "data": {
      "image/png": "[encoded data removed]",
      "text/plain": [
       "<Figure size 360x360 with 1 Axes>"
      ]
     },
     "metadata": {
      "needs_background": "light"
     },
     "output_type": "display_data"
    }
   ],
   "source": [
    "plt.figure(figsize=(7,5))\n",
    "sbn.displot(dataFrame[\"price\"]) #distrubiton plot nasıl dağıldığını göster."
   ]
  },
  {
   "cell_type": "code",
   "execution_count": 9,
   "metadata": {},
   "outputs": [
    {
     "name": "stderr",
     "output_type": "stream",
     "text": [
      "c:\\Users\\yusuf\\anaconda3\\lib\\site-packages\\seaborn\\_decorators.py:36: FutureWarning: Pass the following variable as a keyword arg: x. From version 0.12, the only valid positional argument will be `data`, and passing other arguments without an explicit keyword will result in an error or misinterpretation.\n",
      "  warnings.warn(\n"
     ]
    },
    {
     "data": {
      "text/plain": [
       "<AxesSubplot:xlabel='year', ylabel='count'>"
      ]
     },
     "execution_count": 9,
     "metadata": {},
     "output_type": "execute_result"
    },
    {
     "data": {
      "image/png": "[encoded data removed]",
      "text/plain": [
       "<Figure size 432x288 with 1 Axes>"
      ]
     },
     "metadata": {
      "needs_background": "light"
     },
     "output_type": "display_data"
    }
   ],
   "source": [
    "#yukarıdaki grafikteki uç kısımları çok az olduğu ve eğitimde sapmalar yaşacatağı için çıkarıcam.\n",
    "\n",
    "sbn.countplot(dataFrame[\"year\"]) #countplot bana kaç yılda kaç tane olduğunu sayısını göster diyorum.\n"
   ]
  },
  {
   "cell_type": "code",
   "execution_count": 10,
   "metadata": {},
   "outputs": [
    {
     "data": {
      "text/html": [
       "<div>\n",
       "<style scoped>\n",
       "    .dataframe tbody tr th:only-of-type {\n",
       "        vertical-align: middle;\n",
       "    }\n",
       "\n",
       "    .dataframe tbody tr th {\n",
       "        vertical-align: top;\n",
       "    }\n",
       "\n",
       "    .dataframe thead th {\n",
       "        text-align: right;\n",
       "    }\n",
       "</style>\n",
       "<table border=\"1\" class=\"dataframe\">\n",
       "  <thead>\n",
       "    <tr style=\"text-align: right;\">\n",
       "      <th></th>\n",
       "      <th>year</th>\n",
       "      <th>price</th>\n",
       "      <th>mileage</th>\n",
       "      <th>tax</th>\n",
       "      <th>mpg</th>\n",
       "      <th>engineSize</th>\n",
       "    </tr>\n",
       "  </thead>\n",
       "  <tbody>\n",
       "    <tr>\n",
       "      <th>year</th>\n",
       "      <td>1.000000</td>\n",
       "      <td>0.520712</td>\n",
       "      <td>-0.738027</td>\n",
       "      <td>0.012480</td>\n",
       "      <td>-0.094626</td>\n",
       "      <td>-0.142147</td>\n",
       "    </tr>\n",
       "    <tr>\n",
       "      <th>price</th>\n",
       "      <td>0.520712</td>\n",
       "      <td>1.000000</td>\n",
       "      <td>-0.537214</td>\n",
       "      <td>0.268717</td>\n",
       "      <td>-0.438445</td>\n",
       "      <td>0.516126</td>\n",
       "    </tr>\n",
       "    <tr>\n",
       "      <th>mileage</th>\n",
       "      <td>-0.738027</td>\n",
       "      <td>-0.537214</td>\n",
       "      <td>1.000000</td>\n",
       "      <td>-0.160223</td>\n",
       "      <td>0.202850</td>\n",
       "      <td>0.063652</td>\n",
       "    </tr>\n",
       "    <tr>\n",
       "      <th>tax</th>\n",
       "      <td>0.012480</td>\n",
       "      <td>0.268717</td>\n",
       "      <td>-0.160223</td>\n",
       "      <td>1.000000</td>\n",
       "      <td>-0.513742</td>\n",
       "      <td>0.338341</td>\n",
       "    </tr>\n",
       "    <tr>\n",
       "      <th>mpg</th>\n",
       "      <td>-0.094626</td>\n",
       "      <td>-0.438445</td>\n",
       "      <td>0.202850</td>\n",
       "      <td>-0.513742</td>\n",
       "      <td>1.000000</td>\n",
       "      <td>-0.339862</td>\n",
       "    </tr>\n",
       "    <tr>\n",
       "      <th>engineSize</th>\n",
       "      <td>-0.142147</td>\n",
       "      <td>0.516126</td>\n",
       "      <td>0.063652</td>\n",
       "      <td>0.338341</td>\n",
       "      <td>-0.339862</td>\n",
       "      <td>1.000000</td>\n",
       "    </tr>\n",
       "  </tbody>\n",
       "</table>\n",
       "</div>"
      ],
      "text/plain": [
       "                year     price   mileage       tax       mpg  engineSize\n",
       "year        1.000000  0.520712 -0.738027  0.012480 -0.094626   -0.142147\n",
       "price       0.520712  1.000000 -0.537214  0.268717 -0.438445    0.516126\n",
       "mileage    -0.738027 -0.537214  1.000000 -0.160223  0.202850    0.063652\n",
       "tax         0.012480  0.268717 -0.160223  1.000000 -0.513742    0.338341\n",
       "mpg        -0.094626 -0.438445  0.202850 -0.513742  1.000000   -0.339862\n",
       "engineSize -0.142147  0.516126  0.063652  0.338341 -0.339862    1.000000"
      ]
     },
     "execution_count": 10,
     "metadata": {},
     "output_type": "execute_result"
    }
   ],
   "source": [
    "#şimdi de kolerasyonunu görelim. Fiyatın(price) diğer değişkenlerle ilişkisi\n",
    "\n",
    "dataFrame.corr()"
   ]
  },
  {
   "cell_type": "code",
   "execution_count": 11,
   "metadata": {},
   "outputs": [
    {
     "data": {
      "text/plain": [
       "mileage      -0.537214\n",
       "mpg          -0.438445\n",
       "tax           0.268717\n",
       "engineSize    0.516126\n",
       "year          0.520712\n",
       "price         1.000000\n",
       "Name: price, dtype: float64"
      ]
     },
     "execution_count": 11,
     "metadata": {},
     "output_type": "execute_result"
    }
   ],
   "source": [
    "dataFrame.corr()[\"price\"].sort_values() #burada sadece istediğimiz kolon çekiyor ayrıca .sort_values() sayesinde küçükten büyüğe doğru da sıralıyor. en çok etkileyen- en büyük olan"
   ]
  },
  {
   "cell_type": "code",
   "execution_count": 12,
   "metadata": {},
   "outputs": [
    {
     "data": {
      "text/plain": [
       "<AxesSubplot:xlabel='mileage', ylabel='price'>"
      ]
     },
     "execution_count": 12,
     "metadata": {},
     "output_type": "execute_result"
    },
    {
     "data": {
      "image/png": "[encoded data removed]",
      "text/plain": [
       "<Figure size 432x288 with 1 Axes>"
      ]
     },
     "metadata": {
      "needs_background": "light"
     },
     "output_type": "display_data"
    }
   ],
   "source": [
    "sbn.scatterplot(x=\"mileage\",y=\"price\",data=dataFrame)  #negatif bir kolerasyonla denedik."
   ]
  },
  {
   "cell_type": "code",
   "execution_count": 13,
   "metadata": {},
   "outputs": [
    {
     "data": {
      "text/plain": [
       "count         13119\n",
       "unique            4\n",
       "top       Semi-Auto\n",
       "freq           6848\n",
       "Name: transmission, dtype: object"
      ]
     },
     "execution_count": 13,
     "metadata": {},
     "output_type": "execute_result"
    }
   ],
   "source": [
    "dataFrame[\"transmission\"].describe()"
   ]
  },
  {
   "cell_type": "code",
   "execution_count": 14,
   "metadata": {},
   "outputs": [
    {
     "data": {
      "text/html": [
       "<div>\n",
       "<style scoped>\n",
       "    .dataframe tbody tr th:only-of-type {\n",
       "        vertical-align: middle;\n",
       "    }\n",
       "\n",
       "    .dataframe tbody tr th {\n",
       "        vertical-align: top;\n",
       "    }\n",
       "\n",
       "    .dataframe thead th {\n",
       "        text-align: right;\n",
       "    }\n",
       "</style>\n",
       "<table border=\"1\" class=\"dataframe\">\n",
       "  <thead>\n",
       "    <tr style=\"text-align: right;\">\n",
       "      <th></th>\n",
       "      <th>year</th>\n",
       "      <th>price</th>\n",
       "      <th>transmission</th>\n",
       "      <th>mileage</th>\n",
       "      <th>tax</th>\n",
       "      <th>mpg</th>\n",
       "      <th>engineSize</th>\n",
       "    </tr>\n",
       "  </thead>\n",
       "  <tbody>\n",
       "    <tr>\n",
       "      <th>11816</th>\n",
       "      <td>2003</td>\n",
       "      <td>650</td>\n",
       "      <td>Manual</td>\n",
       "      <td>109090</td>\n",
       "      <td>235</td>\n",
       "      <td>40.0</td>\n",
       "      <td>1.4</td>\n",
       "    </tr>\n",
       "    <tr>\n",
       "      <th>12008</th>\n",
       "      <td>2010</td>\n",
       "      <td>1350</td>\n",
       "      <td>Manual</td>\n",
       "      <td>116126</td>\n",
       "      <td>145</td>\n",
       "      <td>54.3</td>\n",
       "      <td>2.0</td>\n",
       "    </tr>\n",
       "    <tr>\n",
       "      <th>11765</th>\n",
       "      <td>2000</td>\n",
       "      <td>1490</td>\n",
       "      <td>Automatic</td>\n",
       "      <td>87000</td>\n",
       "      <td>265</td>\n",
       "      <td>27.2</td>\n",
       "      <td>3.2</td>\n",
       "    </tr>\n",
       "    <tr>\n",
       "      <th>11549</th>\n",
       "      <td>2002</td>\n",
       "      <td>1495</td>\n",
       "      <td>Automatic</td>\n",
       "      <td>13800</td>\n",
       "      <td>305</td>\n",
       "      <td>39.8</td>\n",
       "      <td>2.7</td>\n",
       "    </tr>\n",
       "    <tr>\n",
       "      <th>12594</th>\n",
       "      <td>2004</td>\n",
       "      <td>1495</td>\n",
       "      <td>Manual</td>\n",
       "      <td>119000</td>\n",
       "      <td>300</td>\n",
       "      <td>34.5</td>\n",
       "      <td>1.8</td>\n",
       "    </tr>\n",
       "    <tr>\n",
       "      <th>11174</th>\n",
       "      <td>2001</td>\n",
       "      <td>1695</td>\n",
       "      <td>Automatic</td>\n",
       "      <td>108800</td>\n",
       "      <td>325</td>\n",
       "      <td>31.7</td>\n",
       "      <td>3.2</td>\n",
       "    </tr>\n",
       "    <tr>\n",
       "      <th>12710</th>\n",
       "      <td>2006</td>\n",
       "      <td>1695</td>\n",
       "      <td>Automatic</td>\n",
       "      <td>153000</td>\n",
       "      <td>300</td>\n",
       "      <td>33.6</td>\n",
       "      <td>1.8</td>\n",
       "    </tr>\n",
       "    <tr>\n",
       "      <th>12766</th>\n",
       "      <td>2004</td>\n",
       "      <td>1780</td>\n",
       "      <td>Automatic</td>\n",
       "      <td>118000</td>\n",
       "      <td>265</td>\n",
       "      <td>41.5</td>\n",
       "      <td>2.2</td>\n",
       "    </tr>\n",
       "    <tr>\n",
       "      <th>12009</th>\n",
       "      <td>2007</td>\n",
       "      <td>1800</td>\n",
       "      <td>Automatic</td>\n",
       "      <td>84000</td>\n",
       "      <td>200</td>\n",
       "      <td>42.8</td>\n",
       "      <td>1.5</td>\n",
       "    </tr>\n",
       "    <tr>\n",
       "      <th>11764</th>\n",
       "      <td>1998</td>\n",
       "      <td>1990</td>\n",
       "      <td>Automatic</td>\n",
       "      <td>99300</td>\n",
       "      <td>265</td>\n",
       "      <td>32.1</td>\n",
       "      <td>2.3</td>\n",
       "    </tr>\n",
       "    <tr>\n",
       "      <th>11808</th>\n",
       "      <td>1998</td>\n",
       "      <td>1990</td>\n",
       "      <td>Automatic</td>\n",
       "      <td>113557</td>\n",
       "      <td>265</td>\n",
       "      <td>32.1</td>\n",
       "      <td>2.3</td>\n",
       "    </tr>\n",
       "    <tr>\n",
       "      <th>11383</th>\n",
       "      <td>2005</td>\n",
       "      <td>1995</td>\n",
       "      <td>Automatic</td>\n",
       "      <td>105000</td>\n",
       "      <td>260</td>\n",
       "      <td>43.5</td>\n",
       "      <td>2.1</td>\n",
       "    </tr>\n",
       "    <tr>\n",
       "      <th>11378</th>\n",
       "      <td>2004</td>\n",
       "      <td>1995</td>\n",
       "      <td>Semi-Auto</td>\n",
       "      <td>165000</td>\n",
       "      <td>330</td>\n",
       "      <td>20.0</td>\n",
       "      <td>3.7</td>\n",
       "    </tr>\n",
       "    <tr>\n",
       "      <th>11857</th>\n",
       "      <td>2002</td>\n",
       "      <td>2140</td>\n",
       "      <td>Automatic</td>\n",
       "      <td>52700</td>\n",
       "      <td>325</td>\n",
       "      <td>31.4</td>\n",
       "      <td>2.0</td>\n",
       "    </tr>\n",
       "    <tr>\n",
       "      <th>11906</th>\n",
       "      <td>2007</td>\n",
       "      <td>2478</td>\n",
       "      <td>Automatic</td>\n",
       "      <td>81000</td>\n",
       "      <td>160</td>\n",
       "      <td>49.6</td>\n",
       "      <td>2.0</td>\n",
       "    </tr>\n",
       "    <tr>\n",
       "      <th>11795</th>\n",
       "      <td>2005</td>\n",
       "      <td>2490</td>\n",
       "      <td>Automatic</td>\n",
       "      <td>101980</td>\n",
       "      <td>200</td>\n",
       "      <td>47.9</td>\n",
       "      <td>2.0</td>\n",
       "    </tr>\n",
       "    <tr>\n",
       "      <th>12765</th>\n",
       "      <td>2004</td>\n",
       "      <td>2495</td>\n",
       "      <td>Automatic</td>\n",
       "      <td>104000</td>\n",
       "      <td>325</td>\n",
       "      <td>31.7</td>\n",
       "      <td>1.8</td>\n",
       "    </tr>\n",
       "    <tr>\n",
       "      <th>11943</th>\n",
       "      <td>2005</td>\n",
       "      <td>2690</td>\n",
       "      <td>Automatic</td>\n",
       "      <td>109000</td>\n",
       "      <td>325</td>\n",
       "      <td>32.1</td>\n",
       "      <td>1.8</td>\n",
       "    </tr>\n",
       "    <tr>\n",
       "      <th>11263</th>\n",
       "      <td>2007</td>\n",
       "      <td>2795</td>\n",
       "      <td>Manual</td>\n",
       "      <td>79485</td>\n",
       "      <td>200</td>\n",
       "      <td>45.6</td>\n",
       "      <td>1.5</td>\n",
       "    </tr>\n",
       "    <tr>\n",
       "      <th>49</th>\n",
       "      <td>2006</td>\n",
       "      <td>2880</td>\n",
       "      <td>Automatic</td>\n",
       "      <td>66000</td>\n",
       "      <td>160</td>\n",
       "      <td>52.3</td>\n",
       "      <td>2.0</td>\n",
       "    </tr>\n",
       "  </tbody>\n",
       "</table>\n",
       "</div>"
      ],
      "text/plain": [
       "       year  price transmission  mileage  tax   mpg  engineSize\n",
       "11816  2003    650       Manual   109090  235  40.0         1.4\n",
       "12008  2010   1350       Manual   116126  145  54.3         2.0\n",
       "11765  2000   1490    Automatic    87000  265  27.2         3.2\n",
       "11549  2002   1495    Automatic    13800  305  39.8         2.7\n",
       "12594  2004   1495       Manual   119000  300  34.5         1.8\n",
       "11174  2001   1695    Automatic   108800  325  31.7         3.2\n",
       "12710  2006   1695    Automatic   153000  300  33.6         1.8\n",
       "12766  2004   1780    Automatic   118000  265  41.5         2.2\n",
       "12009  2007   1800    Automatic    84000  200  42.8         1.5\n",
       "11764  1998   1990    Automatic    99300  265  32.1         2.3\n",
       "11808  1998   1990    Automatic   113557  265  32.1         2.3\n",
       "11383  2005   1995    Automatic   105000  260  43.5         2.1\n",
       "11378  2004   1995    Semi-Auto   165000  330  20.0         3.7\n",
       "11857  2002   2140    Automatic    52700  325  31.4         2.0\n",
       "11906  2007   2478    Automatic    81000  160  49.6         2.0\n",
       "11795  2005   2490    Automatic   101980  200  47.9         2.0\n",
       "12765  2004   2495    Automatic   104000  325  31.7         1.8\n",
       "11943  2005   2690    Automatic   109000  325  32.1         1.8\n",
       "11263  2007   2795       Manual    79485  200  45.6         1.5\n",
       "49     2006   2880    Automatic    66000  160  52.3         2.0"
      ]
     },
     "execution_count": 14,
     "metadata": {},
     "output_type": "execute_result"
    }
   ],
   "source": [
    "dataFrame.sort_values(\"price\",ascending=True).head(20) #ascending(yükselen)= False ? En yüksek değeri en yukarı getirecek. head'ten yardım alıcam (20) yazıcam"
   ]
  },
  {
   "cell_type": "code",
   "execution_count": 15,
   "metadata": {},
   "outputs": [
    {
     "data": {
      "text/plain": [
       "131.19"
      ]
     },
     "execution_count": 15,
     "metadata": {},
     "output_type": "execute_result"
    }
   ],
   "source": [
    "#uç noktadaki %1'lik kısmı çıkar.(modeli etkilemez.) onu da şöyle buluruz.\n",
    "\n",
    "len(dataFrame)\n",
    "\n",
    "#%1'lik kısım\n",
    "len(dataFrame) *0.01"
   ]
  },
  {
   "cell_type": "markdown",
   "metadata": {},
   "source": [
    "## VERİ TEMİZLİĞİ"
   ]
  },
  {
   "cell_type": "code",
   "execution_count": 16,
   "metadata": {},
   "outputs": [],
   "source": [
    "YeniDataFrame=dataFrame.sort_values(\"price\",ascending=False).iloc[131:] #iloc==indexLocation"
   ]
  },
  {
   "cell_type": "code",
   "execution_count": 17,
   "metadata": {},
   "outputs": [
    {
     "data": {
      "text/html": [
       "<div>\n",
       "<style scoped>\n",
       "    .dataframe tbody tr th:only-of-type {\n",
       "        vertical-align: middle;\n",
       "    }\n",
       "\n",
       "    .dataframe tbody tr th {\n",
       "        vertical-align: top;\n",
       "    }\n",
       "\n",
       "    .dataframe thead th {\n",
       "        text-align: right;\n",
       "    }\n",
       "</style>\n",
       "<table border=\"1\" class=\"dataframe\">\n",
       "  <thead>\n",
       "    <tr style=\"text-align: right;\">\n",
       "      <th></th>\n",
       "      <th>year</th>\n",
       "      <th>price</th>\n",
       "      <th>mileage</th>\n",
       "      <th>tax</th>\n",
       "      <th>mpg</th>\n",
       "      <th>engineSize</th>\n",
       "    </tr>\n",
       "  </thead>\n",
       "  <tbody>\n",
       "    <tr>\n",
       "      <th>count</th>\n",
       "      <td>12988.000000</td>\n",
       "      <td>12988.000000</td>\n",
       "      <td>12988.000000</td>\n",
       "      <td>12988.000000</td>\n",
       "      <td>12988.000000</td>\n",
       "      <td>12988.000000</td>\n",
       "    </tr>\n",
       "    <tr>\n",
       "      <th>mean</th>\n",
       "      <td>2017.281876</td>\n",
       "      <td>24074.926933</td>\n",
       "      <td>22132.741146</td>\n",
       "      <td>129.689714</td>\n",
       "      <td>55.437142</td>\n",
       "      <td>2.050901</td>\n",
       "    </tr>\n",
       "    <tr>\n",
       "      <th>std</th>\n",
       "      <td>2.228515</td>\n",
       "      <td>9866.224575</td>\n",
       "      <td>21196.776401</td>\n",
       "      <td>65.183076</td>\n",
       "      <td>15.025999</td>\n",
       "      <td>0.532596</td>\n",
       "    </tr>\n",
       "    <tr>\n",
       "      <th>min</th>\n",
       "      <td>1970.000000</td>\n",
       "      <td>650.000000</td>\n",
       "      <td>1.000000</td>\n",
       "      <td>0.000000</td>\n",
       "      <td>1.100000</td>\n",
       "      <td>0.000000</td>\n",
       "    </tr>\n",
       "    <tr>\n",
       "      <th>25%</th>\n",
       "      <td>2016.000000</td>\n",
       "      <td>17357.500000</td>\n",
       "      <td>6322.000000</td>\n",
       "      <td>125.000000</td>\n",
       "      <td>45.600000</td>\n",
       "      <td>1.675000</td>\n",
       "    </tr>\n",
       "    <tr>\n",
       "      <th>50%</th>\n",
       "      <td>2018.000000</td>\n",
       "      <td>22299.000000</td>\n",
       "      <td>15369.500000</td>\n",
       "      <td>145.000000</td>\n",
       "      <td>56.500000</td>\n",
       "      <td>2.000000</td>\n",
       "    </tr>\n",
       "    <tr>\n",
       "      <th>75%</th>\n",
       "      <td>2019.000000</td>\n",
       "      <td>28706.000000</td>\n",
       "      <td>31982.250000</td>\n",
       "      <td>145.000000</td>\n",
       "      <td>64.200000</td>\n",
       "      <td>2.100000</td>\n",
       "    </tr>\n",
       "    <tr>\n",
       "      <th>max</th>\n",
       "      <td>2020.000000</td>\n",
       "      <td>65990.000000</td>\n",
       "      <td>259000.000000</td>\n",
       "      <td>580.000000</td>\n",
       "      <td>217.300000</td>\n",
       "      <td>6.200000</td>\n",
       "    </tr>\n",
       "  </tbody>\n",
       "</table>\n",
       "</div>"
      ],
      "text/plain": [
       "               year         price        mileage           tax           mpg  \\\n",
       "count  12988.000000  12988.000000   12988.000000  12988.000000  12988.000000   \n",
       "mean    2017.281876  24074.926933   22132.741146    129.689714     55.437142   \n",
       "std        2.228515   9866.224575   21196.776401     65.183076     15.025999   \n",
       "min     1970.000000    650.000000       1.000000      0.000000      1.100000   \n",
       "25%     2016.000000  17357.500000    6322.000000    125.000000     45.600000   \n",
       "50%     2018.000000  22299.000000   15369.500000    145.000000     56.500000   \n",
       "75%     2019.000000  28706.000000   31982.250000    145.000000     64.200000   \n",
       "max     2020.000000  65990.000000  259000.000000    580.000000    217.300000   \n",
       "\n",
       "         engineSize  \n",
       "count  12988.000000  \n",
       "mean       2.050901  \n",
       "std        0.532596  \n",
       "min        0.000000  \n",
       "25%        1.675000  \n",
       "50%        2.000000  \n",
       "75%        2.100000  \n",
       "max        6.200000  "
      ]
     },
     "execution_count": 17,
     "metadata": {},
     "output_type": "execute_result"
    }
   ],
   "source": [
    "YeniDataFrame.describe()"
   ]
  },
  {
   "cell_type": "code",
   "execution_count": 18,
   "metadata": {},
   "outputs": [
    {
     "name": "stderr",
     "output_type": "stream",
     "text": [
      "c:\\Users\\yusuf\\anaconda3\\lib\\site-packages\\seaborn\\distributions.py:2557: FutureWarning: `distplot` is a deprecated function and will be removed in a future version. Please adapt your code to use either `displot` (a figure-level function with similar flexibility) or `histplot` (an axes-level function for histograms).\n",
      "  warnings.warn(msg, FutureWarning)\n"
     ]
    },
    {
     "data": {
      "text/plain": [
       "<AxesSubplot:xlabel='price', ylabel='Density'>"
      ]
     },
     "execution_count": 18,
     "metadata": {},
     "output_type": "execute_result"
    },
    {
     "data": {
      "image/png": "[encoded data removed]",
      "text/plain": [
       "<Figure size 504x360 with 1 Axes>"
      ]
     },
     "metadata": {
      "needs_background": "light"
     },
     "output_type": "display_data"
    }
   ],
   "source": [
    "plt.figure(figsize=(7,5))\n",
    "sbn.distplot(YeniDataFrame[\"price\"])"
   ]
  },
  {
   "cell_type": "code",
   "execution_count": 19,
   "metadata": {},
   "outputs": [
    {
     "data": {
      "text/plain": [
       "year\n",
       "1970    24999.000000\n",
       "1997     9995.000000\n",
       "1998     8605.000000\n",
       "1999     5995.000000\n",
       "2000     5743.333333\n",
       "2001     4957.900000\n",
       "2002     5820.444444\n",
       "2003     4878.000000\n",
       "2004     4727.615385\n",
       "2005     4426.111111\n",
       "2006     4036.875000\n",
       "2007     5136.045455\n",
       "2008     6967.437500\n",
       "2009     6166.764706\n",
       "2010     8308.473684\n",
       "2011    12624.894737\n",
       "2012    10845.140351\n",
       "2013    11939.842466\n",
       "2014    14042.936864\n",
       "2015    16731.780020\n",
       "2016    19307.892948\n",
       "2017    21514.307854\n",
       "2018    25720.162918\n",
       "2019    31290.020865\n",
       "2020    35433.282337\n",
       "Name: price, dtype: float64"
      ]
     },
     "execution_count": 19,
     "metadata": {},
     "output_type": "execute_result"
    }
   ],
   "source": [
    "dataFrame.groupby(\"year\").mean()[\"price\"] #burada year'ları gruplarıyıp fiyatlara göre ortalamasını alıyor."
   ]
  },
  {
   "cell_type": "code",
   "execution_count": 20,
   "metadata": {},
   "outputs": [
    {
     "data": {
      "text/plain": [
       "year\n",
       "1970    24999.000000\n",
       "1997     9995.000000\n",
       "1998     8605.000000\n",
       "1999     5995.000000\n",
       "2000     5743.333333\n",
       "2001     4957.900000\n",
       "2002     5820.444444\n",
       "2003     4878.000000\n",
       "2004     4727.615385\n",
       "2005     4426.111111\n",
       "2006     4036.875000\n",
       "2007     5136.045455\n",
       "2008     6967.437500\n",
       "2009     6166.764706\n",
       "2010     8308.473684\n",
       "2011     8913.459459\n",
       "2012    10845.140351\n",
       "2013    11939.842466\n",
       "2014    14042.936864\n",
       "2015    16647.822222\n",
       "2016    19223.558943\n",
       "2017    21356.280421\n",
       "2018    24800.844506\n",
       "2019    30289.524832\n",
       "2020    34234.794872\n",
       "Name: price, dtype: float64"
      ]
     },
     "execution_count": 20,
     "metadata": {},
     "output_type": "execute_result"
    }
   ],
   "source": [
    "YeniDataFrame.groupby(\"year\").mean()[\"price\"] #hala 1970 yılındaki verilerin  soru çıkardığını düşünüyoruz. ondan kurtulmamız gerek."
   ]
  },
  {
   "cell_type": "code",
   "execution_count": 21,
   "metadata": {},
   "outputs": [
    {
     "data": {
      "text/plain": [
       "year\n",
       "1997     9995.000000\n",
       "1998     8605.000000\n",
       "1999     5995.000000\n",
       "2000     5743.333333\n",
       "2001     4957.900000\n",
       "2002     5820.444444\n",
       "2003     4878.000000\n",
       "2004     4727.615385\n",
       "2005     4426.111111\n",
       "2006     4036.875000\n",
       "2007     5136.045455\n",
       "2008     6967.437500\n",
       "2009     6166.764706\n",
       "2010     8308.473684\n",
       "2011    12624.894737\n",
       "2012    10845.140351\n",
       "2013    11939.842466\n",
       "2014    14042.936864\n",
       "2015    16731.780020\n",
       "2016    19307.892948\n",
       "2017    21514.307854\n",
       "2018    25720.162918\n",
       "2019    31290.020865\n",
       "2020    35433.282337\n",
       "Name: price, dtype: float64"
      ]
     },
     "execution_count": 21,
     "metadata": {},
     "output_type": "execute_result"
    }
   ],
   "source": [
    "dataFrame[dataFrame.year !=1970].groupby(\"year\").mean()[\"price\"]"
   ]
  },
  {
   "cell_type": "code",
   "execution_count": 22,
   "metadata": {},
   "outputs": [],
   "source": [
    "dataFrame=YeniDataFrame"
   ]
  },
  {
   "cell_type": "code",
   "execution_count": 23,
   "metadata": {},
   "outputs": [],
   "source": [
    "dataFrame=dataFrame[dataFrame.year !=1970 ] "
   ]
  },
  {
   "cell_type": "code",
   "execution_count": 24,
   "metadata": {},
   "outputs": [
    {
     "data": {
      "text/plain": [
       "year\n",
       "1997     9995.000000\n",
       "1998     8605.000000\n",
       "1999     5995.000000\n",
       "2000     5743.333333\n",
       "2001     4957.900000\n",
       "2002     5820.444444\n",
       "2003     4878.000000\n",
       "2004     4727.615385\n",
       "2005     4426.111111\n",
       "2006     4036.875000\n",
       "2007     5136.045455\n",
       "2008     6967.437500\n",
       "2009     6166.764706\n",
       "2010     8308.473684\n",
       "2011     8913.459459\n",
       "2012    10845.140351\n",
       "2013    11939.842466\n",
       "2014    14042.936864\n",
       "2015    16647.822222\n",
       "2016    19223.558943\n",
       "2017    21356.280421\n",
       "2018    24800.844506\n",
       "2019    30289.524832\n",
       "2020    34234.794872\n",
       "Name: price, dtype: float64"
      ]
     },
     "execution_count": 24,
     "metadata": {},
     "output_type": "execute_result"
    }
   ],
   "source": [
    "dataFrame.groupby(\"year\").mean()[\"price\"]"
   ]
  },
  {
   "cell_type": "code",
   "execution_count": 25,
   "metadata": {},
   "outputs": [
    {
     "data": {
      "text/html": [
       "<div>\n",
       "<style scoped>\n",
       "    .dataframe tbody tr th:only-of-type {\n",
       "        vertical-align: middle;\n",
       "    }\n",
       "\n",
       "    .dataframe tbody tr th {\n",
       "        vertical-align: top;\n",
       "    }\n",
       "\n",
       "    .dataframe thead th {\n",
       "        text-align: right;\n",
       "    }\n",
       "</style>\n",
       "<table border=\"1\" class=\"dataframe\">\n",
       "  <thead>\n",
       "    <tr style=\"text-align: right;\">\n",
       "      <th></th>\n",
       "      <th>year</th>\n",
       "      <th>price</th>\n",
       "      <th>transmission</th>\n",
       "      <th>mileage</th>\n",
       "      <th>tax</th>\n",
       "      <th>mpg</th>\n",
       "      <th>engineSize</th>\n",
       "    </tr>\n",
       "  </thead>\n",
       "  <tbody>\n",
       "    <tr>\n",
       "      <th>6177</th>\n",
       "      <td>2019</td>\n",
       "      <td>65990</td>\n",
       "      <td>Semi-Auto</td>\n",
       "      <td>5076</td>\n",
       "      <td>150</td>\n",
       "      <td>30.4</td>\n",
       "      <td>3.0</td>\n",
       "    </tr>\n",
       "    <tr>\n",
       "      <th>5779</th>\n",
       "      <td>2020</td>\n",
       "      <td>65990</td>\n",
       "      <td>Semi-Auto</td>\n",
       "      <td>999</td>\n",
       "      <td>145</td>\n",
       "      <td>28.0</td>\n",
       "      <td>4.0</td>\n",
       "    </tr>\n",
       "    <tr>\n",
       "      <th>3191</th>\n",
       "      <td>2020</td>\n",
       "      <td>65980</td>\n",
       "      <td>Semi-Auto</td>\n",
       "      <td>3999</td>\n",
       "      <td>145</td>\n",
       "      <td>28.0</td>\n",
       "      <td>4.0</td>\n",
       "    </tr>\n",
       "    <tr>\n",
       "      <th>4727</th>\n",
       "      <td>2019</td>\n",
       "      <td>65000</td>\n",
       "      <td>Semi-Auto</td>\n",
       "      <td>3398</td>\n",
       "      <td>145</td>\n",
       "      <td>27.2</td>\n",
       "      <td>4.0</td>\n",
       "    </tr>\n",
       "    <tr>\n",
       "      <th>8814</th>\n",
       "      <td>2019</td>\n",
       "      <td>64999</td>\n",
       "      <td>Semi-Auto</td>\n",
       "      <td>119</td>\n",
       "      <td>145</td>\n",
       "      <td>40.9</td>\n",
       "      <td>3.0</td>\n",
       "    </tr>\n",
       "  </tbody>\n",
       "</table>\n",
       "</div>"
      ],
      "text/plain": [
       "      year  price transmission  mileage  tax   mpg  engineSize\n",
       "6177  2019  65990    Semi-Auto     5076  150  30.4         3.0\n",
       "5779  2020  65990    Semi-Auto      999  145  28.0         4.0\n",
       "3191  2020  65980    Semi-Auto     3999  145  28.0         4.0\n",
       "4727  2019  65000    Semi-Auto     3398  145  27.2         4.0\n",
       "8814  2019  64999    Semi-Auto      119  145  40.9         3.0"
      ]
     },
     "execution_count": 25,
     "metadata": {},
     "output_type": "execute_result"
    }
   ],
   "source": [
    "dataFrame.head()"
   ]
  },
  {
   "cell_type": "markdown",
   "metadata": {},
   "source": [
    "## MODEL OLUŞTURMA\n"
   ]
  },
  {
   "cell_type": "code",
   "execution_count": 26,
   "metadata": {},
   "outputs": [],
   "source": [
    "#şimdi benim y ve x'lere bağlı x_train,y_train ve y_test ,x_test şeklinde ayırmam gerekiyor. hedefim olan y yani price geri kalan hepsi benim için x yani (features== özellik ) oluyor.\n",
    "\n",
    "y=dataFrame[\"price\"].values\n",
    "\n",
    "x=dataFrame.drop(\"price\",axis=1).values"
   ]
  },
  {
   "cell_type": "code",
   "execution_count": 27,
   "metadata": {},
   "outputs": [
    {
     "data": {
      "text/plain": [
       "array([65990, 65990, 65980, ...,  1490,  1350,   650], dtype=int64)"
      ]
     },
     "execution_count": 27,
     "metadata": {},
     "output_type": "execute_result"
    }
   ],
   "source": [
    "y #bana böyle bir dizi verecektir.\n"
   ]
  },
  {
   "cell_type": "code",
   "execution_count": 28,
   "metadata": {},
   "outputs": [],
   "source": [
    "from sklearn.model_selection import train_test_split"
   ]
  },
  {
   "cell_type": "code",
   "execution_count": 29,
   "metadata": {},
   "outputs": [],
   "source": [
    "x_train,x_test,y_train,y_test = train_test_split(x,y,test_size=0.33,random_state=42)\n",
    "\n",
    "#bu işlemi gerçekleştirdikten sonra doğru bölündü mü diye bakıyorum;"
   ]
  },
  {
   "cell_type": "code",
   "execution_count": 30,
   "metadata": {},
   "outputs": [
    {
     "data": {
      "text/plain": [
       "4286"
      ]
     },
     "execution_count": 30,
     "metadata": {},
     "output_type": "execute_result"
    }
   ],
   "source": [
    "len(x_test)"
   ]
  },
  {
   "cell_type": "code",
   "execution_count": 31,
   "metadata": {},
   "outputs": [
    {
     "data": {
      "text/plain": [
       "8701"
      ]
     },
     "execution_count": 31,
     "metadata": {},
     "output_type": "execute_result"
    }
   ],
   "source": [
    "len(x_train)"
   ]
  },
  {
   "cell_type": "code",
   "execution_count": 32,
   "metadata": {},
   "outputs": [
    {
     "data": {
      "text/plain": [
       "4286"
      ]
     },
     "execution_count": 32,
     "metadata": {},
     "output_type": "execute_result"
    }
   ],
   "source": [
    "len(y_test)"
   ]
  },
  {
   "cell_type": "code",
   "execution_count": 33,
   "metadata": {},
   "outputs": [
    {
     "data": {
      "text/plain": [
       "8701"
      ]
     },
     "execution_count": 33,
     "metadata": {},
     "output_type": "execute_result"
    }
   ],
   "source": [
    "len(y_train)"
   ]
  },
  {
   "cell_type": "code",
   "execution_count": 34,
   "metadata": {},
   "outputs": [],
   "source": [
    "from sklearn.preprocessing import MinMaxScaler"
   ]
  },
  {
   "cell_type": "code",
   "execution_count": 35,
   "metadata": {},
   "outputs": [],
   "source": [
    "scaler= MinMaxScaler() #büyütme ve küçültme işlemleri yapıyoruz scaler ile isteğimiz ise 0-1 arasına getirmek bütün değerleri"
   ]
  },
  {
   "cell_type": "code",
   "execution_count": 36,
   "metadata": {},
   "outputs": [
    {
     "ename": "ValueError",
     "evalue": "could not convert string to float: 'Semi-Auto'",
     "output_type": "error",
     "traceback": [
      "\u001b[1;31m---------------------------------------------------------------------------\u001b[0m",
      "\u001b[1;31mValueError\u001b[0m                                Traceback (most recent call last)",
      "\u001b[1;32m<ipython-input-36-cf85ddb28c81>\u001b[0m in \u001b[0;36m<module>\u001b[1;34m\u001b[0m\n\u001b[1;32m----> 1\u001b[1;33m \u001b[0mx_train\u001b[0m\u001b[1;33m=\u001b[0m \u001b[0mscaler\u001b[0m\u001b[1;33m.\u001b[0m\u001b[0mfit_transform\u001b[0m\u001b[1;33m(\u001b[0m\u001b[0mx_train\u001b[0m\u001b[1;33m)\u001b[0m\u001b[1;33m\u001b[0m\u001b[1;33m\u001b[0m\u001b[0m\n\u001b[0m",
      "\u001b[1;32mc:\\Users\\yusuf\\anaconda3\\lib\\site-packages\\sklearn\\base.py\u001b[0m in \u001b[0;36mfit_transform\u001b[1;34m(self, X, y, **fit_params)\u001b[0m\n\u001b[0;32m    697\u001b[0m         \u001b[1;32mif\u001b[0m \u001b[0my\u001b[0m \u001b[1;32mis\u001b[0m \u001b[1;32mNone\u001b[0m\u001b[1;33m:\u001b[0m\u001b[1;33m\u001b[0m\u001b[1;33m\u001b[0m\u001b[0m\n\u001b[0;32m    698\u001b[0m             \u001b[1;31m# fit method of arity 1 (unsupervised transformation)\u001b[0m\u001b[1;33m\u001b[0m\u001b[1;33m\u001b[0m\u001b[1;33m\u001b[0m\u001b[0m\n\u001b[1;32m--> 699\u001b[1;33m             \u001b[1;32mreturn\u001b[0m \u001b[0mself\u001b[0m\u001b[1;33m.\u001b[0m\u001b[0mfit\u001b[0m\u001b[1;33m(\u001b[0m\u001b[0mX\u001b[0m\u001b[1;33m,\u001b[0m \u001b[1;33m**\u001b[0m\u001b[0mfit_params\u001b[0m\u001b[1;33m)\u001b[0m\u001b[1;33m.\u001b[0m\u001b[0mtransform\u001b[0m\u001b[1;33m(\u001b[0m\u001b[0mX\u001b[0m\u001b[1;33m)\u001b[0m\u001b[1;33m\u001b[0m\u001b[1;33m\u001b[0m\u001b[0m\n\u001b[0m\u001b[0;32m    700\u001b[0m         \u001b[1;32melse\u001b[0m\u001b[1;33m:\u001b[0m\u001b[1;33m\u001b[0m\u001b[1;33m\u001b[0m\u001b[0m\n\u001b[0;32m    701\u001b[0m             \u001b[1;31m# fit method of arity 2 (supervised transformation)\u001b[0m\u001b[1;33m\u001b[0m\u001b[1;33m\u001b[0m\u001b[1;33m\u001b[0m\u001b[0m\n",
      "\u001b[1;32mc:\\Users\\yusuf\\anaconda3\\lib\\site-packages\\sklearn\\preprocessing\\_data.py\u001b[0m in \u001b[0;36mfit\u001b[1;34m(self, X, y)\u001b[0m\n\u001b[0;32m    361\u001b[0m         \u001b[1;31m# Reset internal state before fitting\u001b[0m\u001b[1;33m\u001b[0m\u001b[1;33m\u001b[0m\u001b[1;33m\u001b[0m\u001b[0m\n\u001b[0;32m    362\u001b[0m         \u001b[0mself\u001b[0m\u001b[1;33m.\u001b[0m\u001b[0m_reset\u001b[0m\u001b[1;33m(\u001b[0m\u001b[1;33m)\u001b[0m\u001b[1;33m\u001b[0m\u001b[1;33m\u001b[0m\u001b[0m\n\u001b[1;32m--> 363\u001b[1;33m         \u001b[1;32mreturn\u001b[0m \u001b[0mself\u001b[0m\u001b[1;33m.\u001b[0m\u001b[0mpartial_fit\u001b[0m\u001b[1;33m(\u001b[0m\u001b[0mX\u001b[0m\u001b[1;33m,\u001b[0m \u001b[0my\u001b[0m\u001b[1;33m)\u001b[0m\u001b[1;33m\u001b[0m\u001b[1;33m\u001b[0m\u001b[0m\n\u001b[0m\u001b[0;32m    364\u001b[0m \u001b[1;33m\u001b[0m\u001b[0m\n\u001b[0;32m    365\u001b[0m     \u001b[1;32mdef\u001b[0m \u001b[0mpartial_fit\u001b[0m\u001b[1;33m(\u001b[0m\u001b[0mself\u001b[0m\u001b[1;33m,\u001b[0m \u001b[0mX\u001b[0m\u001b[1;33m,\u001b[0m \u001b[0my\u001b[0m\u001b[1;33m=\u001b[0m\u001b[1;32mNone\u001b[0m\u001b[1;33m)\u001b[0m\u001b[1;33m:\u001b[0m\u001b[1;33m\u001b[0m\u001b[1;33m\u001b[0m\u001b[0m\n",
      "\u001b[1;32mc:\\Users\\yusuf\\anaconda3\\lib\\site-packages\\sklearn\\preprocessing\\_data.py\u001b[0m in \u001b[0;36mpartial_fit\u001b[1;34m(self, X, y)\u001b[0m\n\u001b[0;32m    394\u001b[0m \u001b[1;33m\u001b[0m\u001b[0m\n\u001b[0;32m    395\u001b[0m         \u001b[0mfirst_pass\u001b[0m \u001b[1;33m=\u001b[0m \u001b[1;32mnot\u001b[0m \u001b[0mhasattr\u001b[0m\u001b[1;33m(\u001b[0m\u001b[0mself\u001b[0m\u001b[1;33m,\u001b[0m \u001b[1;34m'n_samples_seen_'\u001b[0m\u001b[1;33m)\u001b[0m\u001b[1;33m\u001b[0m\u001b[1;33m\u001b[0m\u001b[0m\n\u001b[1;32m--> 396\u001b[1;33m         X = self._validate_data(X, reset=first_pass,\n\u001b[0m\u001b[0;32m    397\u001b[0m                                 \u001b[0mestimator\u001b[0m\u001b[1;33m=\u001b[0m\u001b[0mself\u001b[0m\u001b[1;33m,\u001b[0m \u001b[0mdtype\u001b[0m\u001b[1;33m=\u001b[0m\u001b[0mFLOAT_DTYPES\u001b[0m\u001b[1;33m,\u001b[0m\u001b[1;33m\u001b[0m\u001b[1;33m\u001b[0m\u001b[0m\n\u001b[0;32m    398\u001b[0m                                 force_all_finite=\"allow-nan\")\n",
      "\u001b[1;32mc:\\Users\\yusuf\\anaconda3\\lib\\site-packages\\sklearn\\base.py\u001b[0m in \u001b[0;36m_validate_data\u001b[1;34m(self, X, y, reset, validate_separately, **check_params)\u001b[0m\n\u001b[0;32m    419\u001b[0m             \u001b[0mout\u001b[0m \u001b[1;33m=\u001b[0m \u001b[0mX\u001b[0m\u001b[1;33m\u001b[0m\u001b[1;33m\u001b[0m\u001b[0m\n\u001b[0;32m    420\u001b[0m         \u001b[1;32melif\u001b[0m \u001b[0misinstance\u001b[0m\u001b[1;33m(\u001b[0m\u001b[0my\u001b[0m\u001b[1;33m,\u001b[0m \u001b[0mstr\u001b[0m\u001b[1;33m)\u001b[0m \u001b[1;32mand\u001b[0m \u001b[0my\u001b[0m \u001b[1;33m==\u001b[0m \u001b[1;34m'no_validation'\u001b[0m\u001b[1;33m:\u001b[0m\u001b[1;33m\u001b[0m\u001b[1;33m\u001b[0m\u001b[0m\n\u001b[1;32m--> 421\u001b[1;33m             \u001b[0mX\u001b[0m \u001b[1;33m=\u001b[0m \u001b[0mcheck_array\u001b[0m\u001b[1;33m(\u001b[0m\u001b[0mX\u001b[0m\u001b[1;33m,\u001b[0m \u001b[1;33m**\u001b[0m\u001b[0mcheck_params\u001b[0m\u001b[1;33m)\u001b[0m\u001b[1;33m\u001b[0m\u001b[1;33m\u001b[0m\u001b[0m\n\u001b[0m\u001b[0;32m    422\u001b[0m             \u001b[0mout\u001b[0m \u001b[1;33m=\u001b[0m \u001b[0mX\u001b[0m\u001b[1;33m\u001b[0m\u001b[1;33m\u001b[0m\u001b[0m\n\u001b[0;32m    423\u001b[0m         \u001b[1;32melse\u001b[0m\u001b[1;33m:\u001b[0m\u001b[1;33m\u001b[0m\u001b[1;33m\u001b[0m\u001b[0m\n",
      "\u001b[1;32mc:\\Users\\yusuf\\anaconda3\\lib\\site-packages\\sklearn\\utils\\validation.py\u001b[0m in \u001b[0;36minner_f\u001b[1;34m(*args, **kwargs)\u001b[0m\n\u001b[0;32m     61\u001b[0m             \u001b[0mextra_args\u001b[0m \u001b[1;33m=\u001b[0m \u001b[0mlen\u001b[0m\u001b[1;33m(\u001b[0m\u001b[0margs\u001b[0m\u001b[1;33m)\u001b[0m \u001b[1;33m-\u001b[0m \u001b[0mlen\u001b[0m\u001b[1;33m(\u001b[0m\u001b[0mall_args\u001b[0m\u001b[1;33m)\u001b[0m\u001b[1;33m\u001b[0m\u001b[1;33m\u001b[0m\u001b[0m\n\u001b[0;32m     62\u001b[0m             \u001b[1;32mif\u001b[0m \u001b[0mextra_args\u001b[0m \u001b[1;33m<=\u001b[0m \u001b[1;36m0\u001b[0m\u001b[1;33m:\u001b[0m\u001b[1;33m\u001b[0m\u001b[1;33m\u001b[0m\u001b[0m\n\u001b[1;32m---> 63\u001b[1;33m                 \u001b[1;32mreturn\u001b[0m \u001b[0mf\u001b[0m\u001b[1;33m(\u001b[0m\u001b[1;33m*\u001b[0m\u001b[0margs\u001b[0m\u001b[1;33m,\u001b[0m \u001b[1;33m**\u001b[0m\u001b[0mkwargs\u001b[0m\u001b[1;33m)\u001b[0m\u001b[1;33m\u001b[0m\u001b[1;33m\u001b[0m\u001b[0m\n\u001b[0m\u001b[0;32m     64\u001b[0m \u001b[1;33m\u001b[0m\u001b[0m\n\u001b[0;32m     65\u001b[0m             \u001b[1;31m# extra_args > 0\u001b[0m\u001b[1;33m\u001b[0m\u001b[1;33m\u001b[0m\u001b[1;33m\u001b[0m\u001b[0m\n",
      "\u001b[1;32mc:\\Users\\yusuf\\anaconda3\\lib\\site-packages\\sklearn\\utils\\validation.py\u001b[0m in \u001b[0;36mcheck_array\u001b[1;34m(array, accept_sparse, accept_large_sparse, dtype, order, copy, force_all_finite, ensure_2d, allow_nd, ensure_min_samples, ensure_min_features, estimator)\u001b[0m\n\u001b[0;32m    614\u001b[0m                     \u001b[0marray\u001b[0m \u001b[1;33m=\u001b[0m \u001b[0marray\u001b[0m\u001b[1;33m.\u001b[0m\u001b[0mastype\u001b[0m\u001b[1;33m(\u001b[0m\u001b[0mdtype\u001b[0m\u001b[1;33m,\u001b[0m \u001b[0mcasting\u001b[0m\u001b[1;33m=\u001b[0m\u001b[1;34m\"unsafe\"\u001b[0m\u001b[1;33m,\u001b[0m \u001b[0mcopy\u001b[0m\u001b[1;33m=\u001b[0m\u001b[1;32mFalse\u001b[0m\u001b[1;33m)\u001b[0m\u001b[1;33m\u001b[0m\u001b[1;33m\u001b[0m\u001b[0m\n\u001b[0;32m    615\u001b[0m                 \u001b[1;32melse\u001b[0m\u001b[1;33m:\u001b[0m\u001b[1;33m\u001b[0m\u001b[1;33m\u001b[0m\u001b[0m\n\u001b[1;32m--> 616\u001b[1;33m                     \u001b[0marray\u001b[0m \u001b[1;33m=\u001b[0m \u001b[0mnp\u001b[0m\u001b[1;33m.\u001b[0m\u001b[0masarray\u001b[0m\u001b[1;33m(\u001b[0m\u001b[0marray\u001b[0m\u001b[1;33m,\u001b[0m \u001b[0morder\u001b[0m\u001b[1;33m=\u001b[0m\u001b[0morder\u001b[0m\u001b[1;33m,\u001b[0m \u001b[0mdtype\u001b[0m\u001b[1;33m=\u001b[0m\u001b[0mdtype\u001b[0m\u001b[1;33m)\u001b[0m\u001b[1;33m\u001b[0m\u001b[1;33m\u001b[0m\u001b[0m\n\u001b[0m\u001b[0;32m    617\u001b[0m             \u001b[1;32mexcept\u001b[0m \u001b[0mComplexWarning\u001b[0m \u001b[1;32mas\u001b[0m \u001b[0mcomplex_warning\u001b[0m\u001b[1;33m:\u001b[0m\u001b[1;33m\u001b[0m\u001b[1;33m\u001b[0m\u001b[0m\n\u001b[0;32m    618\u001b[0m                 raise ValueError(\"Complex data not supported\\n\"\n",
      "\u001b[1;32mc:\\Users\\yusuf\\anaconda3\\lib\\site-packages\\numpy\\core\\_asarray.py\u001b[0m in \u001b[0;36masarray\u001b[1;34m(a, dtype, order, like)\u001b[0m\n\u001b[0;32m    100\u001b[0m         \u001b[1;32mreturn\u001b[0m \u001b[0m_asarray_with_like\u001b[0m\u001b[1;33m(\u001b[0m\u001b[0ma\u001b[0m\u001b[1;33m,\u001b[0m \u001b[0mdtype\u001b[0m\u001b[1;33m=\u001b[0m\u001b[0mdtype\u001b[0m\u001b[1;33m,\u001b[0m \u001b[0morder\u001b[0m\u001b[1;33m=\u001b[0m\u001b[0morder\u001b[0m\u001b[1;33m,\u001b[0m \u001b[0mlike\u001b[0m\u001b[1;33m=\u001b[0m\u001b[0mlike\u001b[0m\u001b[1;33m)\u001b[0m\u001b[1;33m\u001b[0m\u001b[1;33m\u001b[0m\u001b[0m\n\u001b[0;32m    101\u001b[0m \u001b[1;33m\u001b[0m\u001b[0m\n\u001b[1;32m--> 102\u001b[1;33m     \u001b[1;32mreturn\u001b[0m \u001b[0marray\u001b[0m\u001b[1;33m(\u001b[0m\u001b[0ma\u001b[0m\u001b[1;33m,\u001b[0m \u001b[0mdtype\u001b[0m\u001b[1;33m,\u001b[0m \u001b[0mcopy\u001b[0m\u001b[1;33m=\u001b[0m\u001b[1;32mFalse\u001b[0m\u001b[1;33m,\u001b[0m \u001b[0morder\u001b[0m\u001b[1;33m=\u001b[0m\u001b[0morder\u001b[0m\u001b[1;33m)\u001b[0m\u001b[1;33m\u001b[0m\u001b[1;33m\u001b[0m\u001b[0m\n\u001b[0m\u001b[0;32m    103\u001b[0m \u001b[1;33m\u001b[0m\u001b[0m\n\u001b[0;32m    104\u001b[0m \u001b[1;33m\u001b[0m\u001b[0m\n",
      "\u001b[1;31mValueError\u001b[0m: could not convert string to float: 'Semi-Auto'"
     ]
    }
   ],
   "source": [
    "x_train= scaler.fit_transform(x_train)"
   ]
  },
  {
   "cell_type": "code",
   "execution_count": null,
   "metadata": {},
   "outputs": [],
   "source": [
    "x_test=scaler.fit_transform(x_test)"
   ]
  },
  {
   "cell_type": "code",
   "execution_count": null,
   "metadata": {},
   "outputs": [],
   "source": [
    "#ulaşmak istediğimiz y'leri scaler etmemize gerek yok."
   ]
  },
  {
   "cell_type": "code",
   "execution_count": null,
   "metadata": {},
   "outputs": [],
   "source": [
    "from tensorflow.keras.models import Sequential\n",
    "from tensorflow.keras.layers import Dense"
   ]
  },
  {
   "cell_type": "code",
   "execution_count": null,
   "metadata": {},
   "outputs": [
    {
     "data": {
      "text/plain": [
       "(8701, 5)"
      ]
     },
     "execution_count": 78,
     "metadata": {},
     "output_type": "execute_result"
    }
   ],
   "source": [
    "x_train.shape"
   ]
  },
  {
   "cell_type": "code",
   "execution_count": null,
   "metadata": {},
   "outputs": [],
   "source": [
    "model=Sequential() #ana fonksiyon\n",
    "\n",
    "model.add(Dense(10,activation=\"relu\")) #şimdi katmanlar eklicez.\n",
    "model.add(Dense(10,activation=\"relu\")) #şimdi katmanlar eklicez.\n",
    "model.add(Dense(10,activation=\"relu\")) #şimdi katmanlar eklicez.\n",
    "model.add(Dense(10,activation=\"relu\")) #şimdi katmanlar eklicez.\n",
    "model.add(Dense(10,activation=\"relu\")) #şimdi katmanlar eklicez.\n",
    "\n",
    "#çıkış katmanı \n",
    "\n",
    "model.add(Dense(1))\n",
    "\n",
    "model.compile(optimizer=\"adam\",loss=\"mse\")"
   ]
  },
  {
   "cell_type": "code",
   "execution_count": null,
   "metadata": {},
   "outputs": [
    {
     "name": "stdout",
     "output_type": "stream",
     "text": [
      "Epoch 1/277\n",
      "41/41 [==============================] - 1s 9ms/step - loss: 676539072.0000 - val_loss: 677726720.0000\n",
      "Epoch 2/277\n",
      "41/41 [==============================] - 0s 3ms/step - loss: 676500864.0000 - val_loss: 677646400.0000\n",
      "Epoch 3/277\n",
      "41/41 [==============================] - 0s 4ms/step - loss: 676293376.0000 - val_loss: 677209472.0000\n",
      "Epoch 4/277\n",
      "41/41 [==============================] - 0s 3ms/step - loss: 675199936.0000 - val_loss: 675016640.0000\n",
      "Epoch 5/277\n",
      "41/41 [==============================] - 0s 4ms/step - loss: 670348800.0000 - val_loss: 666144512.0000\n",
      "Epoch 6/277\n",
      "41/41 [==============================] - 0s 3ms/step - loss: 653378944.0000 - val_loss: 637925568.0000\n",
      "Epoch 7/277\n",
      "41/41 [==============================] - 0s 4ms/step - loss: 606180928.0000 - val_loss: 566583424.0000\n",
      "Epoch 8/277\n",
      "41/41 [==============================] - 0s 4ms/step - loss: 501288096.0000 - val_loss: 426396928.0000\n",
      "Epoch 9/277\n",
      "41/41 [==============================] - 0s 4ms/step - loss: 330279680.0000 - val_loss: 235858112.0000\n",
      "Epoch 10/277\n",
      "41/41 [==============================] - 0s 4ms/step - loss: 161501056.0000 - val_loss: 110325072.0000\n",
      "Epoch 11/277\n",
      "41/41 [==============================] - 0s 7ms/step - loss: 97804064.0000 - val_loss: 90569448.0000\n",
      "Epoch 12/277\n",
      "41/41 [==============================] - 0s 4ms/step - loss: 92450328.0000 - val_loss: 89212176.0000\n",
      "Epoch 13/277\n",
      "41/41 [==============================] - 0s 4ms/step - loss: 91050648.0000 - val_loss: 88271664.0000\n",
      "Epoch 14/277\n",
      "41/41 [==============================] - 0s 5ms/step - loss: 89831640.0000 - val_loss: 87374232.0000\n",
      "Epoch 15/277\n",
      "41/41 [==============================] - 0s 5ms/step - loss: 88709072.0000 - val_loss: 86452576.0000\n",
      "Epoch 16/277\n",
      "41/41 [==============================] - 0s 3ms/step - loss: 87641344.0000 - val_loss: 85697688.0000\n",
      "Epoch 17/277\n",
      "41/41 [==============================] - 0s 4ms/step - loss: 86636208.0000 - val_loss: 84938312.0000\n",
      "Epoch 18/277\n",
      "41/41 [==============================] - 0s 4ms/step - loss: 85634904.0000 - val_loss: 84166280.0000\n",
      "Epoch 19/277\n",
      "41/41 [==============================] - 0s 4ms/step - loss: 84675904.0000 - val_loss: 83374168.0000\n",
      "Epoch 20/277\n",
      "41/41 [==============================] - 0s 4ms/step - loss: 83749408.0000 - val_loss: 82694408.0000\n",
      "Epoch 21/277\n",
      "41/41 [==============================] - 0s 4ms/step - loss: 82820032.0000 - val_loss: 81931440.0000\n",
      "Epoch 22/277\n",
      "41/41 [==============================] - 0s 4ms/step - loss: 81932104.0000 - val_loss: 81234448.0000\n",
      "Epoch 23/277\n",
      "41/41 [==============================] - 0s 4ms/step - loss: 81054360.0000 - val_loss: 80513464.0000\n",
      "Epoch 24/277\n",
      "41/41 [==============================] - 0s 4ms/step - loss: 80159384.0000 - val_loss: 79876680.0000\n",
      "Epoch 25/277\n",
      "41/41 [==============================] - 0s 3ms/step - loss: 79297832.0000 - val_loss: 79160288.0000\n",
      "Epoch 26/277\n",
      "41/41 [==============================] - 0s 4ms/step - loss: 78418512.0000 - val_loss: 78469456.0000\n",
      "Epoch 27/277\n",
      "41/41 [==============================] - 0s 4ms/step - loss: 77545280.0000 - val_loss: 77808552.0000\n",
      "Epoch 28/277\n",
      "41/41 [==============================] - 0s 3ms/step - loss: 76689896.0000 - val_loss: 77118336.0000\n",
      "Epoch 29/277\n",
      "41/41 [==============================] - 0s 4ms/step - loss: 75834048.0000 - val_loss: 76439056.0000\n",
      "Epoch 30/277\n",
      "41/41 [==============================] - 0s 3ms/step - loss: 74980152.0000 - val_loss: 75768008.0000\n",
      "Epoch 31/277\n",
      "41/41 [==============================] - 0s 4ms/step - loss: 74114400.0000 - val_loss: 75089616.0000\n",
      "Epoch 32/277\n",
      "41/41 [==============================] - 0s 3ms/step - loss: 73257536.0000 - val_loss: 74378600.0000\n",
      "Epoch 33/277\n",
      "41/41 [==============================] - 0s 4ms/step - loss: 72392056.0000 - val_loss: 73688648.0000\n",
      "Epoch 34/277\n",
      "41/41 [==============================] - 0s 3ms/step - loss: 71528624.0000 - val_loss: 72990920.0000\n",
      "Epoch 35/277\n",
      "41/41 [==============================] - 0s 4ms/step - loss: 70662664.0000 - val_loss: 72292008.0000\n",
      "Epoch 36/277\n",
      "41/41 [==============================] - 0s 4ms/step - loss: 69778904.0000 - val_loss: 71585584.0000\n",
      "Epoch 37/277\n",
      "41/41 [==============================] - 0s 3ms/step - loss: 68900760.0000 - val_loss: 70882168.0000\n",
      "Epoch 38/277\n",
      "41/41 [==============================] - 0s 3ms/step - loss: 67997840.0000 - val_loss: 70150696.0000\n",
      "Epoch 39/277\n",
      "41/41 [==============================] - 0s 3ms/step - loss: 67117776.0000 - val_loss: 69414280.0000\n",
      "Epoch 40/277\n",
      "41/41 [==============================] - 0s 3ms/step - loss: 66192316.0000 - val_loss: 68678040.0000\n",
      "Epoch 41/277\n",
      "41/41 [==============================] - 0s 3ms/step - loss: 65264028.0000 - val_loss: 67921016.0000\n",
      "Epoch 42/277\n",
      "41/41 [==============================] - 0s 4ms/step - loss: 64332620.0000 - val_loss: 67150384.0000\n",
      "Epoch 43/277\n",
      "41/41 [==============================] - 0s 3ms/step - loss: 63396540.0000 - val_loss: 66451308.0000\n",
      "Epoch 44/277\n",
      "41/41 [==============================] - 0s 4ms/step - loss: 62398996.0000 - val_loss: 65588556.0000\n",
      "Epoch 45/277\n",
      "41/41 [==============================] - 0s 4ms/step - loss: 61417704.0000 - val_loss: 64814280.0000\n",
      "Epoch 46/277\n",
      "41/41 [==============================] - 0s 3ms/step - loss: 60406440.0000 - val_loss: 63926624.0000\n",
      "Epoch 47/277\n",
      "41/41 [==============================] - 0s 3ms/step - loss: 59392516.0000 - val_loss: 63146964.0000\n",
      "Epoch 48/277\n",
      "41/41 [==============================] - 0s 4ms/step - loss: 58404752.0000 - val_loss: 62462788.0000\n",
      "Epoch 49/277\n",
      "41/41 [==============================] - 0s 3ms/step - loss: 57304044.0000 - val_loss: 61322820.0000\n",
      "Epoch 50/277\n",
      "41/41 [==============================] - 0s 4ms/step - loss: 56222104.0000 - val_loss: 60391472.0000\n",
      "Epoch 51/277\n",
      "41/41 [==============================] - 0s 4ms/step - loss: 55145676.0000 - val_loss: 59460016.0000\n",
      "Epoch 52/277\n",
      "41/41 [==============================] - 0s 3ms/step - loss: 53980876.0000 - val_loss: 58545400.0000\n",
      "Epoch 53/277\n",
      "41/41 [==============================] - 0s 4ms/step - loss: 52838836.0000 - val_loss: 57499516.0000\n",
      "Epoch 54/277\n",
      "41/41 [==============================] - 0s 3ms/step - loss: 51646748.0000 - val_loss: 56714780.0000\n",
      "Epoch 55/277\n",
      "41/41 [==============================] - 0s 3ms/step - loss: 50477708.0000 - val_loss: 55635616.0000\n",
      "Epoch 56/277\n",
      "41/41 [==============================] - 0s 4ms/step - loss: 49256400.0000 - val_loss: 54519984.0000\n",
      "Epoch 57/277\n",
      "41/41 [==============================] - 0s 3ms/step - loss: 48033412.0000 - val_loss: 53503720.0000\n",
      "Epoch 58/277\n",
      "41/41 [==============================] - 0s 4ms/step - loss: 46817972.0000 - val_loss: 52489236.0000\n",
      "Epoch 59/277\n",
      "41/41 [==============================] - 0s 4ms/step - loss: 45563968.0000 - val_loss: 51216680.0000\n",
      "Epoch 60/277\n",
      "41/41 [==============================] - 0s 3ms/step - loss: 44332056.0000 - val_loss: 49868256.0000\n",
      "Epoch 61/277\n",
      "41/41 [==============================] - 0s 3ms/step - loss: 43175332.0000 - val_loss: 48876108.0000\n",
      "Epoch 62/277\n",
      "41/41 [==============================] - 0s 4ms/step - loss: 41941444.0000 - val_loss: 47648216.0000\n",
      "Epoch 63/277\n",
      "41/41 [==============================] - 0s 3ms/step - loss: 40783856.0000 - val_loss: 46679252.0000\n",
      "Epoch 64/277\n",
      "41/41 [==============================] - 0s 4ms/step - loss: 39672740.0000 - val_loss: 45471852.0000\n",
      "Epoch 65/277\n",
      "41/41 [==============================] - 0s 3ms/step - loss: 38544000.0000 - val_loss: 44300208.0000\n",
      "Epoch 66/277\n",
      "41/41 [==============================] - 0s 3ms/step - loss: 37437188.0000 - val_loss: 43343048.0000\n",
      "Epoch 67/277\n",
      "41/41 [==============================] - 0s 3ms/step - loss: 36397736.0000 - val_loss: 41926612.0000\n",
      "Epoch 68/277\n",
      "41/41 [==============================] - 0s 3ms/step - loss: 35433616.0000 - val_loss: 40954012.0000\n",
      "Epoch 69/277\n",
      "41/41 [==============================] - 0s 3ms/step - loss: 34489660.0000 - val_loss: 40135412.0000\n",
      "Epoch 70/277\n",
      "41/41 [==============================] - 0s 4ms/step - loss: 33626644.0000 - val_loss: 38910320.0000\n",
      "Epoch 71/277\n",
      "41/41 [==============================] - 0s 3ms/step - loss: 32810066.0000 - val_loss: 38134944.0000\n",
      "Epoch 72/277\n",
      "41/41 [==============================] - 0s 3ms/step - loss: 31930272.0000 - val_loss: 37286484.0000\n",
      "Epoch 73/277\n",
      "41/41 [==============================] - 0s 3ms/step - loss: 31090230.0000 - val_loss: 36475512.0000\n",
      "Epoch 74/277\n",
      "41/41 [==============================] - 0s 4ms/step - loss: 30281030.0000 - val_loss: 35292288.0000\n",
      "Epoch 75/277\n",
      "41/41 [==============================] - 0s 3ms/step - loss: 29539788.0000 - val_loss: 34343676.0000\n",
      "Epoch 76/277\n",
      "41/41 [==============================] - 0s 4ms/step - loss: 28886746.0000 - val_loss: 33902632.0000\n",
      "Epoch 77/277\n",
      "41/41 [==============================] - 0s 4ms/step - loss: 28345712.0000 - val_loss: 32976432.0000\n",
      "Epoch 78/277\n",
      "41/41 [==============================] - 0s 4ms/step - loss: 27832186.0000 - val_loss: 32498076.0000\n",
      "Epoch 79/277\n",
      "41/41 [==============================] - 0s 4ms/step - loss: 27354158.0000 - val_loss: 31900118.0000\n",
      "Epoch 80/277\n",
      "41/41 [==============================] - 0s 4ms/step - loss: 26958422.0000 - val_loss: 31480948.0000\n",
      "Epoch 81/277\n",
      "41/41 [==============================] - 0s 4ms/step - loss: 26506670.0000 - val_loss: 30502982.0000\n",
      "Epoch 82/277\n",
      "41/41 [==============================] - 0s 3ms/step - loss: 26146692.0000 - val_loss: 30429176.0000\n",
      "Epoch 83/277\n",
      "41/41 [==============================] - 0s 3ms/step - loss: 25596542.0000 - val_loss: 29775524.0000\n",
      "Epoch 84/277\n",
      "41/41 [==============================] - 0s 4ms/step - loss: 25153440.0000 - val_loss: 29399710.0000\n",
      "Epoch 85/277\n",
      "41/41 [==============================] - 0s 3ms/step - loss: 24712394.0000 - val_loss: 29310822.0000\n",
      "Epoch 86/277\n",
      "41/41 [==============================] - 0s 4ms/step - loss: 24344676.0000 - val_loss: 28502812.0000\n",
      "Epoch 87/277\n",
      "41/41 [==============================] - 0s 3ms/step - loss: 24048694.0000 - val_loss: 28299750.0000\n",
      "Epoch 88/277\n",
      "41/41 [==============================] - 0s 3ms/step - loss: 23813646.0000 - val_loss: 28518886.0000\n",
      "Epoch 89/277\n",
      "41/41 [==============================] - 0s 3ms/step - loss: 23569292.0000 - val_loss: 27803634.0000\n",
      "Epoch 90/277\n",
      "41/41 [==============================] - 0s 4ms/step - loss: 23303396.0000 - val_loss: 27386792.0000\n",
      "Epoch 91/277\n",
      "41/41 [==============================] - 0s 4ms/step - loss: 23074732.0000 - val_loss: 27346526.0000\n",
      "Epoch 92/277\n",
      "41/41 [==============================] - 0s 4ms/step - loss: 22922902.0000 - val_loss: 26576406.0000\n",
      "Epoch 93/277\n",
      "41/41 [==============================] - 0s 3ms/step - loss: 22662430.0000 - val_loss: 26429706.0000\n",
      "Epoch 94/277\n",
      "41/41 [==============================] - 0s 3ms/step - loss: 22506398.0000 - val_loss: 25998314.0000\n",
      "Epoch 95/277\n",
      "41/41 [==============================] - 0s 3ms/step - loss: 22343592.0000 - val_loss: 26183328.0000\n",
      "Epoch 96/277\n",
      "41/41 [==============================] - 0s 3ms/step - loss: 22191848.0000 - val_loss: 25882196.0000\n",
      "Epoch 97/277\n",
      "41/41 [==============================] - 0s 4ms/step - loss: 22043868.0000 - val_loss: 25764120.0000\n",
      "Epoch 98/277\n",
      "41/41 [==============================] - 0s 3ms/step - loss: 21907858.0000 - val_loss: 25308934.0000\n",
      "Epoch 99/277\n",
      "41/41 [==============================] - 0s 3ms/step - loss: 21797540.0000 - val_loss: 25512570.0000\n",
      "Epoch 100/277\n",
      "41/41 [==============================] - 0s 4ms/step - loss: 21673338.0000 - val_loss: 25068496.0000\n",
      "Epoch 101/277\n",
      "41/41 [==============================] - 0s 3ms/step - loss: 21593010.0000 - val_loss: 24983046.0000\n",
      "Epoch 102/277\n",
      "41/41 [==============================] - 0s 3ms/step - loss: 21512514.0000 - val_loss: 24672360.0000\n",
      "Epoch 103/277\n",
      "41/41 [==============================] - 0s 4ms/step - loss: 21432794.0000 - val_loss: 24808200.0000\n",
      "Epoch 104/277\n",
      "41/41 [==============================] - 0s 3ms/step - loss: 21346666.0000 - val_loss: 24639248.0000\n",
      "Epoch 105/277\n",
      "41/41 [==============================] - 0s 4ms/step - loss: 21273142.0000 - val_loss: 24271704.0000\n",
      "Epoch 106/277\n",
      "41/41 [==============================] - 0s 3ms/step - loss: 21233196.0000 - val_loss: 24156860.0000\n",
      "Epoch 107/277\n",
      "41/41 [==============================] - 0s 4ms/step - loss: 21204628.0000 - val_loss: 24233940.0000\n",
      "Epoch 108/277\n",
      "41/41 [==============================] - 0s 4ms/step - loss: 21141588.0000 - val_loss: 24004186.0000\n",
      "Epoch 109/277\n",
      "41/41 [==============================] - 0s 3ms/step - loss: 21069218.0000 - val_loss: 23889006.0000\n",
      "Epoch 110/277\n",
      "41/41 [==============================] - 0s 4ms/step - loss: 21012862.0000 - val_loss: 23934846.0000\n",
      "Epoch 111/277\n",
      "41/41 [==============================] - 0s 3ms/step - loss: 20981150.0000 - val_loss: 23976522.0000\n",
      "Epoch 112/277\n",
      "41/41 [==============================] - 0s 4ms/step - loss: 20948456.0000 - val_loss: 23655402.0000\n",
      "Epoch 113/277\n",
      "41/41 [==============================] - 0s 4ms/step - loss: 20906952.0000 - val_loss: 23606866.0000\n",
      "Epoch 114/277\n",
      "41/41 [==============================] - 0s 3ms/step - loss: 20865582.0000 - val_loss: 23844164.0000\n",
      "Epoch 115/277\n",
      "41/41 [==============================] - 0s 4ms/step - loss: 20817546.0000 - val_loss: 23738474.0000\n",
      "Epoch 116/277\n",
      "41/41 [==============================] - 0s 4ms/step - loss: 20764778.0000 - val_loss: 23514956.0000\n",
      "Epoch 117/277\n",
      "41/41 [==============================] - 0s 4ms/step - loss: 20738200.0000 - val_loss: 23533016.0000\n",
      "Epoch 118/277\n",
      "41/41 [==============================] - 0s 3ms/step - loss: 20714828.0000 - val_loss: 23400600.0000\n",
      "Epoch 119/277\n",
      "41/41 [==============================] - 0s 4ms/step - loss: 20672646.0000 - val_loss: 23478890.0000\n",
      "Epoch 120/277\n",
      "41/41 [==============================] - 0s 4ms/step - loss: 20660850.0000 - val_loss: 23243590.0000\n",
      "Epoch 121/277\n",
      "41/41 [==============================] - 0s 4ms/step - loss: 20615106.0000 - val_loss: 23505888.0000\n",
      "Epoch 122/277\n",
      "41/41 [==============================] - 0s 4ms/step - loss: 20600754.0000 - val_loss: 23088570.0000\n",
      "Epoch 123/277\n",
      "41/41 [==============================] - 0s 4ms/step - loss: 20578842.0000 - val_loss: 23300130.0000\n",
      "Epoch 124/277\n",
      "41/41 [==============================] - 0s 4ms/step - loss: 20562490.0000 - val_loss: 23028310.0000\n",
      "Epoch 125/277\n",
      "41/41 [==============================] - 0s 4ms/step - loss: 20504598.0000 - val_loss: 23007504.0000\n",
      "Epoch 126/277\n",
      "41/41 [==============================] - 0s 4ms/step - loss: 20488866.0000 - val_loss: 22945138.0000\n",
      "Epoch 127/277\n",
      "41/41 [==============================] - 0s 5ms/step - loss: 20437064.0000 - val_loss: 22971816.0000\n",
      "Epoch 128/277\n",
      "41/41 [==============================] - 0s 3ms/step - loss: 20390200.0000 - val_loss: 22934352.0000\n",
      "Epoch 129/277\n",
      "41/41 [==============================] - 0s 3ms/step - loss: 20370608.0000 - val_loss: 22876300.0000\n",
      "Epoch 130/277\n",
      "41/41 [==============================] - 0s 3ms/step - loss: 20344572.0000 - val_loss: 22900454.0000\n",
      "Epoch 131/277\n",
      "41/41 [==============================] - 0s 3ms/step - loss: 20312738.0000 - val_loss: 22871780.0000\n",
      "Epoch 132/277\n",
      "41/41 [==============================] - 0s 4ms/step - loss: 20295994.0000 - val_loss: 22701046.0000\n",
      "Epoch 133/277\n",
      "41/41 [==============================] - 0s 4ms/step - loss: 20283134.0000 - val_loss: 22618400.0000\n",
      "Epoch 134/277\n",
      "41/41 [==============================] - 0s 6ms/step - loss: 20234886.0000 - val_loss: 22694906.0000\n",
      "Epoch 135/277\n",
      "41/41 [==============================] - 0s 5ms/step - loss: 20228270.0000 - val_loss: 22604458.0000\n",
      "Epoch 136/277\n",
      "41/41 [==============================] - 0s 4ms/step - loss: 20202628.0000 - val_loss: 22549580.0000\n",
      "Epoch 137/277\n",
      "41/41 [==============================] - 0s 3ms/step - loss: 20153082.0000 - val_loss: 22665162.0000\n",
      "Epoch 138/277\n",
      "41/41 [==============================] - 0s 3ms/step - loss: 20125844.0000 - val_loss: 22566838.0000\n",
      "Epoch 139/277\n",
      "41/41 [==============================] - 0s 3ms/step - loss: 20094786.0000 - val_loss: 22398372.0000\n",
      "Epoch 140/277\n",
      "41/41 [==============================] - 0s 3ms/step - loss: 20090932.0000 - val_loss: 22410678.0000\n",
      "Epoch 141/277\n",
      "41/41 [==============================] - 0s 3ms/step - loss: 20039396.0000 - val_loss: 22471972.0000\n",
      "Epoch 142/277\n",
      "41/41 [==============================] - 0s 3ms/step - loss: 20020538.0000 - val_loss: 22292312.0000\n",
      "Epoch 143/277\n",
      "41/41 [==============================] - 0s 4ms/step - loss: 20000506.0000 - val_loss: 22294628.0000\n",
      "Epoch 144/277\n",
      "41/41 [==============================] - 0s 4ms/step - loss: 19962296.0000 - val_loss: 22478854.0000\n",
      "Epoch 145/277\n",
      "41/41 [==============================] - 0s 5ms/step - loss: 19959296.0000 - val_loss: 22173776.0000\n",
      "Epoch 146/277\n",
      "41/41 [==============================] - 0s 4ms/step - loss: 19930894.0000 - val_loss: 22139742.0000\n",
      "Epoch 147/277\n",
      "41/41 [==============================] - 0s 3ms/step - loss: 19872730.0000 - val_loss: 22285008.0000\n",
      "Epoch 148/277\n",
      "41/41 [==============================] - 0s 4ms/step - loss: 19863660.0000 - val_loss: 22079160.0000\n",
      "Epoch 149/277\n",
      "41/41 [==============================] - 0s 3ms/step - loss: 19810686.0000 - val_loss: 22403074.0000\n",
      "Epoch 150/277\n",
      "41/41 [==============================] - 0s 3ms/step - loss: 19811004.0000 - val_loss: 22026654.0000\n",
      "Epoch 151/277\n",
      "41/41 [==============================] - 0s 3ms/step - loss: 19772354.0000 - val_loss: 21942432.0000\n",
      "Epoch 152/277\n",
      "41/41 [==============================] - 0s 3ms/step - loss: 19743606.0000 - val_loss: 22038512.0000\n",
      "Epoch 153/277\n",
      "41/41 [==============================] - 0s 3ms/step - loss: 19712860.0000 - val_loss: 21943810.0000\n",
      "Epoch 154/277\n",
      "41/41 [==============================] - 0s 3ms/step - loss: 19699654.0000 - val_loss: 21817244.0000\n",
      "Epoch 155/277\n",
      "41/41 [==============================] - 0s 3ms/step - loss: 19671890.0000 - val_loss: 21911624.0000\n",
      "Epoch 156/277\n",
      "41/41 [==============================] - 0s 3ms/step - loss: 19645664.0000 - val_loss: 21790290.0000\n",
      "Epoch 157/277\n",
      "41/41 [==============================] - 0s 3ms/step - loss: 19615078.0000 - val_loss: 21985524.0000\n",
      "Epoch 158/277\n",
      "41/41 [==============================] - 0s 3ms/step - loss: 19649498.0000 - val_loss: 21782842.0000\n",
      "Epoch 159/277\n",
      "41/41 [==============================] - 0s 3ms/step - loss: 19541308.0000 - val_loss: 21651496.0000\n",
      "Epoch 160/277\n",
      "41/41 [==============================] - 0s 3ms/step - loss: 19564866.0000 - val_loss: 21750094.0000\n",
      "Epoch 161/277\n",
      "41/41 [==============================] - 0s 3ms/step - loss: 19486576.0000 - val_loss: 21978768.0000\n",
      "Epoch 162/277\n",
      "41/41 [==============================] - 0s 3ms/step - loss: 19462330.0000 - val_loss: 21589858.0000\n",
      "Epoch 163/277\n",
      "41/41 [==============================] - 0s 3ms/step - loss: 19433372.0000 - val_loss: 21630618.0000\n",
      "Epoch 164/277\n",
      "41/41 [==============================] - 0s 3ms/step - loss: 19430876.0000 - val_loss: 21509346.0000\n",
      "Epoch 165/277\n",
      "41/41 [==============================] - 0s 3ms/step - loss: 19414722.0000 - val_loss: 21465364.0000\n",
      "Epoch 166/277\n",
      "41/41 [==============================] - 0s 3ms/step - loss: 19432064.0000 - val_loss: 21559006.0000\n",
      "Epoch 167/277\n",
      "41/41 [==============================] - 0s 4ms/step - loss: 19341362.0000 - val_loss: 21495858.0000\n",
      "Epoch 168/277\n",
      "41/41 [==============================] - 0s 5ms/step - loss: 19298970.0000 - val_loss: 21550894.0000\n",
      "Epoch 169/277\n",
      "41/41 [==============================] - 0s 5ms/step - loss: 19286646.0000 - val_loss: 21327568.0000\n",
      "Epoch 170/277\n",
      "41/41 [==============================] - 0s 5ms/step - loss: 19237778.0000 - val_loss: 21337640.0000\n",
      "Epoch 171/277\n",
      "41/41 [==============================] - 0s 4ms/step - loss: 19240462.0000 - val_loss: 21293980.0000\n",
      "Epoch 172/277\n",
      "41/41 [==============================] - 0s 4ms/step - loss: 19191940.0000 - val_loss: 21319596.0000\n",
      "Epoch 173/277\n",
      "41/41 [==============================] - 0s 6ms/step - loss: 19163840.0000 - val_loss: 21354808.0000\n",
      "Epoch 174/277\n",
      "41/41 [==============================] - 0s 5ms/step - loss: 19142386.0000 - val_loss: 21215796.0000\n",
      "Epoch 175/277\n",
      "41/41 [==============================] - 0s 4ms/step - loss: 19109164.0000 - val_loss: 21172960.0000\n",
      "Epoch 176/277\n",
      "41/41 [==============================] - 0s 4ms/step - loss: 19131934.0000 - val_loss: 21125148.0000\n",
      "Epoch 177/277\n",
      "41/41 [==============================] - 0s 4ms/step - loss: 19045004.0000 - val_loss: 21254718.0000\n",
      "Epoch 178/277\n",
      "41/41 [==============================] - 0s 3ms/step - loss: 19034224.0000 - val_loss: 21071196.0000\n",
      "Epoch 179/277\n",
      "41/41 [==============================] - 0s 4ms/step - loss: 19006030.0000 - val_loss: 21019314.0000\n",
      "Epoch 180/277\n",
      "41/41 [==============================] - 0s 3ms/step - loss: 19000840.0000 - val_loss: 21006404.0000\n",
      "Epoch 181/277\n",
      "41/41 [==============================] - 0s 4ms/step - loss: 18983636.0000 - val_loss: 21031440.0000\n",
      "Epoch 182/277\n",
      "41/41 [==============================] - 0s 5ms/step - loss: 18926784.0000 - val_loss: 20964766.0000\n",
      "Epoch 183/277\n",
      "41/41 [==============================] - 0s 4ms/step - loss: 18911934.0000 - val_loss: 20967522.0000\n",
      "Epoch 184/277\n",
      "41/41 [==============================] - 0s 3ms/step - loss: 18888408.0000 - val_loss: 20912916.0000\n",
      "Epoch 185/277\n",
      "41/41 [==============================] - 0s 3ms/step - loss: 18866268.0000 - val_loss: 20955648.0000\n",
      "Epoch 186/277\n",
      "41/41 [==============================] - 0s 3ms/step - loss: 18849346.0000 - val_loss: 20846432.0000\n",
      "Epoch 187/277\n",
      "41/41 [==============================] - 0s 3ms/step - loss: 18838208.0000 - val_loss: 20814966.0000\n",
      "Epoch 188/277\n",
      "41/41 [==============================] - 0s 4ms/step - loss: 18792736.0000 - val_loss: 20794934.0000\n",
      "Epoch 189/277\n",
      "41/41 [==============================] - 0s 3ms/step - loss: 18784070.0000 - val_loss: 20781724.0000\n",
      "Epoch 190/277\n",
      "41/41 [==============================] - 0s 3ms/step - loss: 18771422.0000 - val_loss: 20756914.0000\n",
      "Epoch 191/277\n",
      "41/41 [==============================] - 0s 4ms/step - loss: 18796828.0000 - val_loss: 20739056.0000\n",
      "Epoch 192/277\n",
      "41/41 [==============================] - 0s 3ms/step - loss: 18714680.0000 - val_loss: 20728762.0000\n",
      "Epoch 193/277\n",
      "41/41 [==============================] - 0s 3ms/step - loss: 18741386.0000 - val_loss: 20682494.0000\n",
      "Epoch 194/277\n",
      "41/41 [==============================] - 0s 3ms/step - loss: 18680702.0000 - val_loss: 20737714.0000\n",
      "Epoch 195/277\n",
      "41/41 [==============================] - 0s 4ms/step - loss: 18666022.0000 - val_loss: 20642786.0000\n",
      "Epoch 196/277\n",
      "41/41 [==============================] - 0s 3ms/step - loss: 18708246.0000 - val_loss: 20626740.0000\n",
      "Epoch 197/277\n",
      "41/41 [==============================] - 0s 4ms/step - loss: 18629360.0000 - val_loss: 20714530.0000\n",
      "Epoch 198/277\n",
      "41/41 [==============================] - 0s 4ms/step - loss: 18615122.0000 - val_loss: 20612508.0000\n",
      "Epoch 199/277\n",
      "41/41 [==============================] - 0s 3ms/step - loss: 18576486.0000 - val_loss: 20588384.0000\n",
      "Epoch 200/277\n",
      "41/41 [==============================] - 0s 3ms/step - loss: 18574504.0000 - val_loss: 20585252.0000\n",
      "Epoch 201/277\n",
      "41/41 [==============================] - 0s 4ms/step - loss: 18583286.0000 - val_loss: 20555032.0000\n",
      "Epoch 202/277\n",
      "41/41 [==============================] - 0s 5ms/step - loss: 18532414.0000 - val_loss: 20527320.0000\n",
      "Epoch 203/277\n",
      "41/41 [==============================] - 0s 6ms/step - loss: 18542812.0000 - val_loss: 20503664.0000\n",
      "Epoch 204/277\n",
      "41/41 [==============================] - 0s 7ms/step - loss: 18522634.0000 - val_loss: 20553680.0000\n",
      "Epoch 205/277\n",
      "41/41 [==============================] - 0s 6ms/step - loss: 18527122.0000 - val_loss: 20477840.0000\n",
      "Epoch 206/277\n",
      "41/41 [==============================] - 0s 4ms/step - loss: 18469148.0000 - val_loss: 20462560.0000\n",
      "Epoch 207/277\n",
      "41/41 [==============================] - 0s 5ms/step - loss: 18453378.0000 - val_loss: 20432440.0000\n",
      "Epoch 208/277\n",
      "41/41 [==============================] - 0s 4ms/step - loss: 18481534.0000 - val_loss: 20599138.0000\n",
      "Epoch 209/277\n",
      "41/41 [==============================] - 0s 4ms/step - loss: 18434796.0000 - val_loss: 20470244.0000\n",
      "Epoch 210/277\n",
      "41/41 [==============================] - 0s 5ms/step - loss: 18463272.0000 - val_loss: 20389184.0000\n",
      "Epoch 211/277\n",
      "41/41 [==============================] - 0s 5ms/step - loss: 18410572.0000 - val_loss: 20399250.0000\n",
      "Epoch 212/277\n",
      "41/41 [==============================] - 0s 5ms/step - loss: 18437892.0000 - val_loss: 20379732.0000\n",
      "Epoch 213/277\n",
      "41/41 [==============================] - 0s 4ms/step - loss: 18392092.0000 - val_loss: 20382760.0000\n",
      "Epoch 214/277\n",
      "41/41 [==============================] - 0s 5ms/step - loss: 18373294.0000 - val_loss: 20360034.0000\n",
      "Epoch 215/277\n",
      "41/41 [==============================] - 0s 4ms/step - loss: 18432744.0000 - val_loss: 20393946.0000\n",
      "Epoch 216/277\n",
      "41/41 [==============================] - 0s 4ms/step - loss: 18400156.0000 - val_loss: 20337180.0000\n",
      "Epoch 217/277\n",
      "41/41 [==============================] - 0s 4ms/step - loss: 18344480.0000 - val_loss: 20300452.0000\n",
      "Epoch 218/277\n",
      "41/41 [==============================] - 0s 4ms/step - loss: 18350926.0000 - val_loss: 20305804.0000\n",
      "Epoch 219/277\n",
      "41/41 [==============================] - 0s 5ms/step - loss: 18334854.0000 - val_loss: 20281174.0000\n",
      "Epoch 220/277\n",
      "41/41 [==============================] - 0s 4ms/step - loss: 18354156.0000 - val_loss: 20455980.0000\n",
      "Epoch 221/277\n",
      "41/41 [==============================] - 0s 4ms/step - loss: 18336010.0000 - val_loss: 20264124.0000\n",
      "Epoch 222/277\n",
      "41/41 [==============================] - 0s 4ms/step - loss: 18290194.0000 - val_loss: 20359168.0000\n",
      "Epoch 223/277\n",
      "41/41 [==============================] - 0s 4ms/step - loss: 18285600.0000 - val_loss: 20251864.0000\n",
      "Epoch 224/277\n",
      "41/41 [==============================] - 0s 9ms/step - loss: 18278348.0000 - val_loss: 20262454.0000\n",
      "Epoch 225/277\n",
      "41/41 [==============================] - 0s 5ms/step - loss: 18321524.0000 - val_loss: 20217712.0000\n",
      "Epoch 226/277\n",
      "41/41 [==============================] - 0s 4ms/step - loss: 18269440.0000 - val_loss: 20218470.0000\n",
      "Epoch 227/277\n",
      "41/41 [==============================] - 0s 6ms/step - loss: 18242542.0000 - val_loss: 20212690.0000\n",
      "Epoch 228/277\n",
      "41/41 [==============================] - 0s 5ms/step - loss: 18244410.0000 - val_loss: 20238372.0000\n",
      "Epoch 229/277\n",
      "41/41 [==============================] - 0s 4ms/step - loss: 18234968.0000 - val_loss: 20190852.0000\n",
      "Epoch 230/277\n",
      "41/41 [==============================] - 0s 4ms/step - loss: 18223976.0000 - val_loss: 20176568.0000\n",
      "Epoch 231/277\n",
      "41/41 [==============================] - 0s 4ms/step - loss: 18209066.0000 - val_loss: 20170908.0000\n",
      "Epoch 232/277\n",
      "41/41 [==============================] - 0s 4ms/step - loss: 18212326.0000 - val_loss: 20200474.0000\n",
      "Epoch 233/277\n",
      "41/41 [==============================] - 0s 4ms/step - loss: 18192662.0000 - val_loss: 20402856.0000\n",
      "Epoch 234/277\n",
      "41/41 [==============================] - 0s 4ms/step - loss: 18205728.0000 - val_loss: 20150902.0000\n",
      "Epoch 235/277\n",
      "41/41 [==============================] - 0s 4ms/step - loss: 18192118.0000 - val_loss: 20138794.0000\n",
      "Epoch 236/277\n",
      "41/41 [==============================] - 0s 5ms/step - loss: 18174338.0000 - val_loss: 20118916.0000\n",
      "Epoch 237/277\n",
      "41/41 [==============================] - 0s 5ms/step - loss: 18158126.0000 - val_loss: 20103070.0000\n",
      "Epoch 238/277\n",
      "41/41 [==============================] - 0s 4ms/step - loss: 18163050.0000 - val_loss: 20129356.0000\n",
      "Epoch 239/277\n",
      "41/41 [==============================] - 0s 4ms/step - loss: 18169532.0000 - val_loss: 20098404.0000\n",
      "Epoch 240/277\n",
      "41/41 [==============================] - 0s 4ms/step - loss: 18150882.0000 - val_loss: 20118018.0000\n",
      "Epoch 241/277\n",
      "41/41 [==============================] - 0s 4ms/step - loss: 18145344.0000 - val_loss: 20135428.0000\n",
      "Epoch 242/277\n",
      "41/41 [==============================] - 0s 5ms/step - loss: 18142288.0000 - val_loss: 20062700.0000\n",
      "Epoch 243/277\n",
      "41/41 [==============================] - 0s 4ms/step - loss: 18110162.0000 - val_loss: 20057568.0000\n",
      "Epoch 244/277\n",
      "41/41 [==============================] - 0s 5ms/step - loss: 18098936.0000 - val_loss: 20105004.0000\n",
      "Epoch 245/277\n",
      "41/41 [==============================] - 0s 5ms/step - loss: 18107788.0000 - val_loss: 20042624.0000\n",
      "Epoch 246/277\n",
      "41/41 [==============================] - 0s 4ms/step - loss: 18110910.0000 - val_loss: 20032902.0000\n",
      "Epoch 247/277\n",
      "41/41 [==============================] - 0s 4ms/step - loss: 18117510.0000 - val_loss: 20242226.0000\n",
      "Epoch 248/277\n",
      "41/41 [==============================] - 0s 4ms/step - loss: 18129384.0000 - val_loss: 20031644.0000\n",
      "Epoch 249/277\n",
      "41/41 [==============================] - 0s 4ms/step - loss: 18111022.0000 - val_loss: 20052722.0000\n",
      "Epoch 250/277\n",
      "41/41 [==============================] - 0s 4ms/step - loss: 18106854.0000 - val_loss: 20155982.0000\n",
      "Epoch 251/277\n",
      "41/41 [==============================] - 0s 5ms/step - loss: 18079940.0000 - val_loss: 19998178.0000\n",
      "Epoch 252/277\n",
      "41/41 [==============================] - 0s 4ms/step - loss: 18057766.0000 - val_loss: 20000396.0000\n",
      "Epoch 253/277\n",
      "41/41 [==============================] - 0s 4ms/step - loss: 18086504.0000 - val_loss: 19988696.0000\n",
      "Epoch 254/277\n",
      "41/41 [==============================] - 0s 5ms/step - loss: 18071856.0000 - val_loss: 19991804.0000\n",
      "Epoch 255/277\n",
      "41/41 [==============================] - 0s 4ms/step - loss: 18035162.0000 - val_loss: 19988224.0000\n",
      "Epoch 256/277\n",
      "41/41 [==============================] - 0s 5ms/step - loss: 18058738.0000 - val_loss: 20023188.0000\n",
      "Epoch 257/277\n",
      "41/41 [==============================] - 0s 4ms/step - loss: 18068010.0000 - val_loss: 19950340.0000\n",
      "Epoch 258/277\n",
      "41/41 [==============================] - 0s 4ms/step - loss: 18017312.0000 - val_loss: 19960602.0000\n",
      "Epoch 259/277\n",
      "41/41 [==============================] - 0s 4ms/step - loss: 18013982.0000 - val_loss: 19997434.0000\n",
      "Epoch 260/277\n",
      "41/41 [==============================] - 0s 4ms/step - loss: 18031004.0000 - val_loss: 19961650.0000\n",
      "Epoch 261/277\n",
      "41/41 [==============================] - 0s 4ms/step - loss: 18022574.0000 - val_loss: 19932538.0000\n",
      "Epoch 262/277\n",
      "41/41 [==============================] - 0s 5ms/step - loss: 17996684.0000 - val_loss: 20020018.0000\n",
      "Epoch 263/277\n",
      "41/41 [==============================] - 0s 5ms/step - loss: 18037642.0000 - val_loss: 19912532.0000\n",
      "Epoch 264/277\n",
      "41/41 [==============================] - 0s 4ms/step - loss: 17980254.0000 - val_loss: 20063846.0000\n",
      "Epoch 265/277\n",
      "41/41 [==============================] - 0s 4ms/step - loss: 17994610.0000 - val_loss: 19904076.0000\n",
      "Epoch 266/277\n",
      "41/41 [==============================] - 0s 4ms/step - loss: 18000032.0000 - val_loss: 19898102.0000\n",
      "Epoch 267/277\n",
      "41/41 [==============================] - 0s 4ms/step - loss: 17979706.0000 - val_loss: 19933038.0000\n",
      "Epoch 268/277\n",
      "41/41 [==============================] - 0s 4ms/step - loss: 17973012.0000 - val_loss: 19896126.0000\n",
      "Epoch 269/277\n",
      "41/41 [==============================] - 0s 5ms/step - loss: 17948836.0000 - val_loss: 19902416.0000\n",
      "Epoch 270/277\n",
      "41/41 [==============================] - 0s 4ms/step - loss: 17951072.0000 - val_loss: 19875586.0000\n",
      "Epoch 271/277\n",
      "41/41 [==============================] - 0s 4ms/step - loss: 17949416.0000 - val_loss: 19861594.0000\n",
      "Epoch 272/277\n",
      "41/41 [==============================] - 0s 4ms/step - loss: 17932988.0000 - val_loss: 19868064.0000\n",
      "Epoch 273/277\n",
      "41/41 [==============================] - 0s 4ms/step - loss: 17922332.0000 - val_loss: 19912810.0000\n",
      "Epoch 274/277\n",
      "41/41 [==============================] - 0s 4ms/step - loss: 17990658.0000 - val_loss: 19856552.0000\n",
      "Epoch 275/277\n",
      "41/41 [==============================] - 0s 4ms/step - loss: 17965188.0000 - val_loss: 19909728.0000\n",
      "Epoch 276/277\n",
      "41/41 [==============================] - 0s 4ms/step - loss: 17951996.0000 - val_loss: 19970444.0000\n",
      "Epoch 277/277\n",
      "41/41 [==============================] - 0s 4ms/step - loss: 17913998.0000 - val_loss: 19885464.0000\n"
     ]
    },
    {
     "data": {
      "text/plain": [
       "<keras.callbacks.History at 0x1a8fb753a60>"
      ]
     },
     "execution_count": 80,
     "metadata": {},
     "output_type": "execute_result"
    }
   ],
   "source": [
    "model.fit(x=x_train,y=y_train,validation_data=(x_test,y_test),batch_size=213,epochs=277) #validation_data(x_test,y_test) bunları bizim yerimize ya da  kıyaslama da yardımcı oluyor veyahut değerlendiriyor."
   ]
  },
  {
   "cell_type": "code",
   "execution_count": null,
   "metadata": {},
   "outputs": [],
   "source": [
    "kayipVerisi= pd.DataFrame(model.history.history)"
   ]
  },
  {
   "cell_type": "code",
   "execution_count": null,
   "metadata": {},
   "outputs": [
    {
     "data": {
      "text/html": [
       "<div>\n",
       "<style scoped>\n",
       "    .dataframe tbody tr th:only-of-type {\n",
       "        vertical-align: middle;\n",
       "    }\n",
       "\n",
       "    .dataframe tbody tr th {\n",
       "        vertical-align: top;\n",
       "    }\n",
       "\n",
       "    .dataframe thead th {\n",
       "        text-align: right;\n",
       "    }\n",
       "</style>\n",
       "<table border=\"1\" class=\"dataframe\">\n",
       "  <thead>\n",
       "    <tr style=\"text-align: right;\">\n",
       "      <th></th>\n",
       "      <th>loss</th>\n",
       "      <th>val_loss</th>\n",
       "    </tr>\n",
       "  </thead>\n",
       "  <tbody>\n",
       "    <tr>\n",
       "      <th>0</th>\n",
       "      <td>676539072.0</td>\n",
       "      <td>677726720.0</td>\n",
       "    </tr>\n",
       "    <tr>\n",
       "      <th>1</th>\n",
       "      <td>676500864.0</td>\n",
       "      <td>677646400.0</td>\n",
       "    </tr>\n",
       "    <tr>\n",
       "      <th>2</th>\n",
       "      <td>676293376.0</td>\n",
       "      <td>677209472.0</td>\n",
       "    </tr>\n",
       "    <tr>\n",
       "      <th>3</th>\n",
       "      <td>675199936.0</td>\n",
       "      <td>675016640.0</td>\n",
       "    </tr>\n",
       "    <tr>\n",
       "      <th>4</th>\n",
       "      <td>670348800.0</td>\n",
       "      <td>666144512.0</td>\n",
       "    </tr>\n",
       "    <tr>\n",
       "      <th>...</th>\n",
       "      <td>...</td>\n",
       "      <td>...</td>\n",
       "    </tr>\n",
       "    <tr>\n",
       "      <th>272</th>\n",
       "      <td>17922332.0</td>\n",
       "      <td>19912810.0</td>\n",
       "    </tr>\n",
       "    <tr>\n",
       "      <th>273</th>\n",
       "      <td>17990658.0</td>\n",
       "      <td>19856552.0</td>\n",
       "    </tr>\n",
       "    <tr>\n",
       "      <th>274</th>\n",
       "      <td>17965188.0</td>\n",
       "      <td>19909728.0</td>\n",
       "    </tr>\n",
       "    <tr>\n",
       "      <th>275</th>\n",
       "      <td>17951996.0</td>\n",
       "      <td>19970444.0</td>\n",
       "    </tr>\n",
       "    <tr>\n",
       "      <th>276</th>\n",
       "      <td>17913998.0</td>\n",
       "      <td>19885464.0</td>\n",
       "    </tr>\n",
       "  </tbody>\n",
       "</table>\n",
       "<p>277 rows × 2 columns</p>\n",
       "</div>"
      ],
      "text/plain": [
       "            loss     val_loss\n",
       "0    676539072.0  677726720.0\n",
       "1    676500864.0  677646400.0\n",
       "2    676293376.0  677209472.0\n",
       "3    675199936.0  675016640.0\n",
       "4    670348800.0  666144512.0\n",
       "..           ...          ...\n",
       "272   17922332.0   19912810.0\n",
       "273   17990658.0   19856552.0\n",
       "274   17965188.0   19909728.0\n",
       "275   17951996.0   19970444.0\n",
       "276   17913998.0   19885464.0\n",
       "\n",
       "[277 rows x 2 columns]"
      ]
     },
     "execution_count": 82,
     "metadata": {},
     "output_type": "execute_result"
    }
   ],
   "source": [
    "kayipVerisi"
   ]
  },
  {
   "cell_type": "code",
   "execution_count": null,
   "metadata": {},
   "outputs": [
    {
     "data": {
      "text/plain": [
       "<AxesSubplot:>"
      ]
     },
     "execution_count": 83,
     "metadata": {},
     "output_type": "execute_result"
    },
    {
     "data": {
      "image/png": "[encoded data removed]",
      "text/plain": [
       "<Figure size 432x288 with 1 Axes>"
      ]
     },
     "metadata": {
      "needs_background": "light"
     },
     "output_type": "display_data"
    }
   ],
   "source": [
    "kayipVerisi.plot() #eğer epochs 1000-2000 olursa overfitting olur.ayrıca loss ve val_loos aynı olması lazım."
   ]
  },
  {
   "cell_type": "code",
   "execution_count": null,
   "metadata": {},
   "outputs": [],
   "source": [
    "from sklearn.metrics import mean_absolute_error,mean_squared_error"
   ]
  },
  {
   "cell_type": "code",
   "execution_count": null,
   "metadata": {},
   "outputs": [],
   "source": [
    "tahminDizisi= model.predict(x_test)"
   ]
  },
  {
   "cell_type": "code",
   "execution_count": null,
   "metadata": {},
   "outputs": [
    {
     "data": {
      "text/plain": [
       "array([[24778.014],\n",
       "       [21671.332],\n",
       "       [15429.699],\n",
       "       ...,\n",
       "       [29194.174],\n",
       "       [29245.064],\n",
       "       [ 6524.57 ]], dtype=float32)"
      ]
     },
     "execution_count": 86,
     "metadata": {},
     "output_type": "execute_result"
    }
   ],
   "source": [
    "tahminDizisi"
   ]
  },
  {
   "cell_type": "code",
   "execution_count": null,
   "metadata": {},
   "outputs": [
    {
     "data": {
      "text/plain": [
       "3172.1076184585727"
      ]
     },
     "execution_count": 88,
     "metadata": {},
     "output_type": "execute_result"
    }
   ],
   "source": [
    "mean_absolute_error(y_test,tahminDizisi) #3172.1076184585727 şu kadarlık bir fark var aralarında. gayet iyi aslında neye göre iyi, fiyatlar açısından "
   ]
  },
  {
   "cell_type": "code",
   "execution_count": null,
   "metadata": {},
   "outputs": [],
   "source": [
    "# %13'lük bir fark mevcut = bunu daha optimize etmek için :\n",
    "\n",
    "\n",
    "# 1-- Verimizi daha çok temizleyebiliriz.\n",
    "\n",
    "# 2-- Test_size  değiştirebiliriz.\n",
    "\n",
    "# 3-- Epoch sayımızı hatta katman sayımızı bile değiştirebiliriz (ki bunlar bizim hyper features'larımız direkt etki eden özelliklerimiz)"
   ]
  },
  {
   "cell_type": "code",
   "execution_count": null,
   "metadata": {},
   "outputs": [
    {
     "data": {
      "text/plain": [
       "[<matplotlib.lines.Line2D at 0x1a8fdb3af40>]"
      ]
     },
     "execution_count": 93,
     "metadata": {},
     "output_type": "execute_result"
    },
    {
     "data": {
      "image/png": "[encoded data removed]",
      "text/plain": [
       "<Figure size 432x288 with 1 Axes>"
      ]
     },
     "metadata": {
      "needs_background": "light"
     },
     "output_type": "display_data"
    }
   ],
   "source": [
    "plt.scatter(y_test,tahminDizisi) #regresyon'da bakıcak olursak fena değiliz. düzgün regresyon bulmuşuz. \n",
    "plt.plot(y_test,y_test,\"r--\")"
   ]
  },
  {
   "cell_type": "code",
   "execution_count": null,
   "metadata": {},
   "outputs": [
    {
     "ename": "NameError",
     "evalue": "name 'dataFrame' is not defined",
     "output_type": "error",
     "traceback": [
      "\u001b[1;31m---------------------------------------------------------------------------\u001b[0m",
      "\u001b[1;31mNameError\u001b[0m                                 Traceback (most recent call last)",
      "\u001b[1;32m<ipython-input-1-33f56032f10e>\u001b[0m in \u001b[0;36m<module>\u001b[1;34m\u001b[0m\n\u001b[0;32m      1\u001b[0m \u001b[1;31m#mesela bir row'a göre değerlendirelim veriyi..\u001b[0m\u001b[1;33m\u001b[0m\u001b[1;33m\u001b[0m\u001b[1;33m\u001b[0m\u001b[0m\n\u001b[0;32m      2\u001b[0m \u001b[1;33m\u001b[0m\u001b[0m\n\u001b[1;32m----> 3\u001b[1;33m \u001b[0mdataFrame\u001b[0m\u001b[1;33m.\u001b[0m\u001b[0miloc\u001b[0m\u001b[1;33m[\u001b[0m\u001b[1;36m88\u001b[0m\u001b[1;33m]\u001b[0m\u001b[1;33m\u001b[0m\u001b[1;33m\u001b[0m\u001b[0m\n\u001b[0m\u001b[0;32m      4\u001b[0m \u001b[1;31m#ben bunun price'ını çıkarıcam\u001b[0m\u001b[1;33m\u001b[0m\u001b[1;33m\u001b[0m\u001b[1;33m\u001b[0m\u001b[0m\n",
      "\u001b[1;31mNameError\u001b[0m: name 'dataFrame' is not defined"
     ]
    }
   ],
   "source": [
    "#mesela bir row'a göre değerlendirelim veriyi..\n",
    "\n",
    "dataFrame.iloc[88]\n",
    "#ben bunun price'ını çıkarıcam\n"
   ]
  },
  {
   "cell_type": "code",
   "execution_count": null,
   "metadata": {},
   "outputs": [
    {
     "ename": "NameError",
     "evalue": "name 'dataFrame' is not defined",
     "output_type": "error",
     "traceback": [
      "\u001b[1;31m---------------------------------------------------------------------------\u001b[0m",
      "\u001b[1;31mNameError\u001b[0m                                 Traceback (most recent call last)",
      "\u001b[1;32m<ipython-input-2-d3847d22de3f>\u001b[0m in \u001b[0;36m<module>\u001b[1;34m\u001b[0m\n\u001b[1;32m----> 1\u001b[1;33m \u001b[0myeniArabaSeries\u001b[0m\u001b[1;33m=\u001b[0m\u001b[0mdataFrame\u001b[0m\u001b[1;33m.\u001b[0m\u001b[0mdrop\u001b[0m\u001b[1;33m(\u001b[0m\u001b[1;34m\"price\"\u001b[0m\u001b[1;33m,\u001b[0m\u001b[0maxis\u001b[0m\u001b[1;33m=\u001b[0m\u001b[1;36m1\u001b[0m\u001b[1;33m)\u001b[0m\u001b[1;33m.\u001b[0m\u001b[0miloc\u001b[0m\u001b[1;33m[\u001b[0m\u001b[1;36m2\u001b[0m\u001b[1;33m]\u001b[0m\u001b[1;33m\u001b[0m\u001b[1;33m\u001b[0m\u001b[0m\n\u001b[0m",
      "\u001b[1;31mNameError\u001b[0m: name 'dataFrame' is not defined"
     ]
    }
   ],
   "source": [
    "yeniArabaSeries=dataFrame.drop(\"price\",axis=1).iloc[2]"
   ]
  },
  {
   "cell_type": "code",
   "execution_count": null,
   "metadata": {},
   "outputs": [
    {
     "data": {
      "text/plain": [
       "pandas.core.series.Series"
      ]
     },
     "execution_count": 100,
     "metadata": {},
     "output_type": "execute_result"
    }
   ],
   "source": [
    "yeniArabaSeries\n",
    "\n",
    "type(yeniArabaSeries)"
   ]
  },
  {
   "cell_type": "code",
   "execution_count": null,
   "metadata": {},
   "outputs": [],
   "source": [
    "yeniArabaSeries=scaler.transform(yeniArabaSeries.values.reshape(-1,5))"
   ]
  },
  {
   "cell_type": "code",
   "execution_count": null,
   "metadata": {},
   "outputs": [
    {
     "data": {
      "text/plain": [
       "array([[60311.453]], dtype=float32)"
      ]
     },
     "execution_count": 103,
     "metadata": {},
     "output_type": "execute_result"
    }
   ],
   "source": [
    "model.predict(yeniArabaSeries) #tahmin etme işlemi"
   ]
  },
  {
   "cell_type": "code",
   "execution_count": null,
   "metadata": {},
   "outputs": [],
   "source": []
  }
 ],
 "metadata": {
  "interpreter": {
   "hash": "e26da9777431fcd98778416b583e2cb3f0c4f5515b7897587b203af2bddddd45"
  },
  "kernelspec": {
   "display_name": "Python 3.8.8",
   "language": "python",
   "name": "python3"
  },
  "language_info": {
   "codemirror_mode": {
    "name": "ipython",
    "version": 3
   },
   "file_extension": ".py",
   "mimetype": "text/x-python",
   "name": "python",
   "nbconvert_exporter": "python",
   "pygments_lexer": "ipython3",
   "version": "3.8.8"
  },
  "orig_nbformat": 4
 },
 "nbformat": 4,
 "nbformat_minor": 2
}
